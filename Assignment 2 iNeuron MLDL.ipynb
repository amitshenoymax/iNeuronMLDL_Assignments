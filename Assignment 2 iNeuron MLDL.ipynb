{
 "cells": [
  {
   "cell_type": "markdown",
   "metadata": {},
   "source": [
    "# 1. Create the below pattern using nested for loop in Python\n",
    "\n",
    "## Stars in the form of an arrow"
   ]
  },
  {
   "cell_type": "code",
   "execution_count": 1,
   "metadata": {},
   "outputs": [
    {
     "name": "stdout",
     "output_type": "stream",
     "text": [
      "\n",
      "* \n",
      "* * \n",
      "* * * \n",
      "* * * * \n",
      "* * * * * \n",
      "* * * * \n",
      "* * * \n",
      "* * \n",
      "* \n"
     ]
    }
   ],
   "source": [
    "variable_name = 5\n",
    "for i in range(variable_name):\n",
    "    for j in range(i):\n",
    "        print('* ',end = '')\n",
    "    print('')\n",
    "    \n",
    "for i in range(variable_name,0,-1):\n",
    "    for j in range(i):\n",
    "        print('* ',end = '')\n",
    "    print('')"
   ]
  },
  {
   "cell_type": "markdown",
   "metadata": {},
   "source": [
    "# 2. Write a Python program to reverse a word after accepting the input from the user.\n",
    "\n",
    "## Input word: ineuron\n",
    "## Output word: norueni"
   ]
  },
  {
   "cell_type": "code",
   "execution_count": 6,
   "metadata": {},
   "outputs": [
    {
     "name": "stdout",
     "output_type": "stream",
     "text": [
      "Input word: ineuron\n"
     ]
    }
   ],
   "source": [
    "input_message = input('Input word: ') # Creates an input for the input_message variable\n"
   ]
  },
  {
   "cell_type": "code",
   "execution_count": 5,
   "metadata": {},
   "outputs": [
    {
     "name": "stdout",
     "output_type": "stream",
     "text": [
      "Output word: norueni\n"
     ]
    }
   ],
   "source": [
    "print('Output word: {}'.format(input_message[::-1])) # Using the index function helps reverse the input_message"
   ]
  },
  {
   "cell_type": "code",
   "execution_count": null,
   "metadata": {},
   "outputs": [],
   "source": []
  }
 ],
 "metadata": {
  "kernelspec": {
   "display_name": "Python 3",
   "language": "python",
   "name": "python3"
  },
  "language_info": {
   "codemirror_mode": {
    "name": "ipython",
    "version": 3
   },
   "file_extension": ".py",
   "mimetype": "text/x-python",
   "name": "python",
   "nbconvert_exporter": "python",
   "pygments_lexer": "ipython3",
   "version": "3.8.5"
  }
 },
 "nbformat": 4,
 "nbformat_minor": 4
}
