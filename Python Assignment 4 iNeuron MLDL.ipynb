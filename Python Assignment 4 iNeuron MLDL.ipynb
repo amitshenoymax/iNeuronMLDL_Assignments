{
 "cells": [
  {
   "cell_type": "markdown",
   "metadata": {},
   "source": [
    "# 1.1 Write a Python Program(with class concepts) to find the area of the triangle using the below formula. area = (s*(s-a)*(s-b)*(s-c)) ** 0.5 Function to take the length of the sides of triangle from user should be defined in the parent class and function to calculate the area should be defined in subclass."
   ]
  },
  {
   "cell_type": "code",
   "execution_count": 8,
   "metadata": {},
   "outputs": [
    {
     "name": "stdout",
     "output_type": "stream",
     "text": [
      "Initialized Utils Child class\n",
      "Initialized Triangle super class [6,7,8]\n",
      "10.5\n",
      "Area of triangle = 20.33316256758894\n"
     ]
    }
   ],
   "source": [
    "class Triangle:\n",
    " def __init__(self, s1, s2, s3):\n",
    "  self.s1 = s1\n",
    "  self.s2 = s2\n",
    "  self.s3 = s3\n",
    "  print (\"Initialized Triangle super class [\" +  str(s1) + \",\" + str(s2) + \",\" + str(s3) + \"]\")\n",
    "\n",
    "class Triangle_Utilities(Triangle):\n",
    " \n",
    " def __init__(self, s1, s2, s3):\n",
    "  print (\"Initialized Utils Child class\" )\n",
    "  super(Triangle_Utilities, self).__init__(s1, s2, s3)\n",
    "\n",
    " def get_area(self):\n",
    "  s = (self.s1 + self.s2 + self.s3)/2\n",
    "  print (str(s))\n",
    "  return (s*(s-self.s1)*(s-self.s2)*(s-self.s3))**0.5\n",
    "\n",
    "instance = Triangle_Utilities(6,7,8)\n",
    "print (\"Area of triangle = \" + str(instance.get_area()) )"
   ]
  },
  {
   "cell_type": "markdown",
   "metadata": {},
   "source": [
    "# 1.2 Write a function filter_long_words() that takes a list of words and an integer n and returns the list of words that are longer than n.\n"
   ]
  },
  {
   "cell_type": "code",
   "execution_count": 26,
   "metadata": {
    "scrolled": true
   },
   "outputs": [
    {
     "name": "stdout",
     "output_type": "stream",
     "text": [
      "Initialized list_Utilities object\n",
      "['feels', 'learn', 'ineuron']\n"
     ]
    }
   ],
   "source": [
    "class list_Utilities:\n",
    " def __init__(self, wordlist):\n",
    "  self.wordlist = wordlist\n",
    "  print (\"Initialized list_Utilities object\")\n",
    "\n",
    " def filter_long_words(self, n):\n",
    "  return list(filter(lambda x:len(x) > n, self.wordlist))\n",
    "\n",
    "instance = list_Utilities(['It', 'feels', 'good', 'to', 'learn', 'at', 'ineuron'])\n",
    "print (str(instance.filter_long_words(4)) ) "
   ]
  },
  {
   "cell_type": "markdown",
   "metadata": {},
   "source": [
    "# 2.1 Write a Python program using function concept that maps list of words into a list of integers representing the lengths of the corresponding words. Hint: If a list [ ab,cde,erty] is passed on to the python function output should come as [2,3,4] Here 2,3 and 4 are the lengths of the words in the list.\n"
   ]
  },
  {
   "cell_type": "code",
   "execution_count": 29,
   "metadata": {},
   "outputs": [
    {
     "name": "stdout",
     "output_type": "stream",
     "text": [
      "[2, 3, 4]\n"
     ]
    }
   ],
   "source": [
    "def wordlength(wordlist):\n",
    "    return list(map(lambda x: len(x), wordlist))\n",
    "\n",
    "wordlist = ['ab','cde','erty']\n",
    "\n",
    "print(str(wordlength(wordlist)))"
   ]
  },
  {
   "cell_type": "markdown",
   "metadata": {},
   "source": [
    "# 2.2 Write a Python function which takes a character (i.e. a string of length 1) and returns True ifit is a vowel, False otherwise."
   ]
  },
  {
   "cell_type": "code",
   "execution_count": 32,
   "metadata": {},
   "outputs": [
    {
     "name": "stdout",
     "output_type": "stream",
     "text": [
      "Enter character: m\n",
      "m is not a vowel.\n"
     ]
    }
   ],
   "source": [
    "def check_vowel(alphabet):\n",
    "    if(alphabet == 'a' or alphabet == 'e' or alphabet == 'i' or alphabet == 'o' or alphabet == 'u'):\n",
    "        return True\n",
    "    else:\n",
    "        return False\n",
    "\n",
    "alphabet = input(\"Enter character: \");\n",
    "\n",
    "if (alphabet.isalpha() == False):\n",
    "    exit();\n",
    "\n",
    "if (check_vowel(alphabet)):\n",
    "    print(alphabet, \"is a vowel.\");\n",
    "else:\n",
    "    print(alphabet, \"is not a vowel.\"); "
   ]
  },
  {
   "cell_type": "code",
   "execution_count": null,
   "metadata": {},
   "outputs": [],
   "source": []
  }
 ],
 "metadata": {
  "kernelspec": {
   "display_name": "Python 3",
   "language": "python",
   "name": "python3"
  },
  "language_info": {
   "codemirror_mode": {
    "name": "ipython",
    "version": 3
   },
   "file_extension": ".py",
   "mimetype": "text/x-python",
   "name": "python",
   "nbconvert_exporter": "python",
   "pygments_lexer": "ipython3",
   "version": "3.8.5"
  }
 },
 "nbformat": 4,
 "nbformat_minor": 4
}
