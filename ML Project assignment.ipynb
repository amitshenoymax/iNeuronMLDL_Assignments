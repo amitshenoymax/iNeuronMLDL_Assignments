{
 "cells": [
  {
   "cell_type": "markdown",
   "id": "d6064786",
   "metadata": {},
   "source": [
    "1/19/2018 ML Project(Updated) (1)\n",
    "Predicting players rating\n",
    "In this project you are going to predict the overall rating of soccer player based on their \n",
    "attributes such as 'crossing', 'finishing etc.\n",
    "The dataset you are going to use is from European Soccer Database\n",
    "(https://www.kaggle.com/hugomathien/soccer) has more than 25,000 matches and more \n",
    "than 10,000 players for European professional soccer seasons from 2008 to 2016.\n",
    "Download the data in the same folder and run the following commmand to get it in the environment\n",
    "About the Dataset\n",
    "The ultimate Soccer database for data analysis and \n",
    "machine learning\n",
    "The dataset comes in the form of an SQL database and contains statistics of about 25,000 football \n",
    "matches, from the top football league of 11 European Countries. It covers seasons from 2008 to \n",
    "2016 and contains match statistics (i.e: scores, corners, fouls etc...) as well as the team \n",
    "formations, with player names and a pair of coordinates to indicate their position on the pitch.\n",
    "+25,000 matches\n",
    "+10,000 players\n",
    "11 European Countries with their lead championship\n",
    "Seasons 2008 to 2016\n",
    "Players and Teams' attributes* sourced from EA Sports' FIFA video game series, including \n",
    "the weekly updates\n",
    "Team line up with squad formation (X, Y coordinates)\n",
    "Betting odds from up to 10 providers\n",
    "Detailed match events (goal types, possession, corner, cross, fouls, cards etc...) for \n",
    "+10,000 matches\n",
    "The dataset also has a set of about 35 statistics for each player, derived from EA Sports' FIFA \n",
    "video games. It is not just the stats that come with a new version of the game but also the weekly \n",
    "updates. So for instance if a player has performed poorly over a period of time and his stats get \n",
    "impacted in FIFA, you would normally see the same in the dataset.\n",
    "Python skills required to complete this project\n",
    "SQL:\n",
    "The data is in SQL database so students need to retrive using query language. They also need \n",
    "to know how to connect SQL database woth python. The library we are using for this in 'sqlite3'.\n",
    "http://localhost:8888/notebooks/20th%20Januray/ML%20Project(Updated)%20(1).ipynb# 1/4\n",
    "1/19/2018 ML Project(Updated) (1)\n",
    "SQLite3 can be integrated with Python using sqlite3 module, which was written by Gerhard Haring. \n",
    "It provides an SQL interface compliant with the DB-API 2.0 specification described by PEP 249. \n",
    "You do not need to install this module separately because it is shipped by default along with Python \n",
    "version 2.5.x onwards.\n",
    "To use sqlite3 module, you must first create a connection object that represents the database \n",
    "and then optionally you can create a cursor object, which will help you in executing all the SQL \n",
    "statements.\n",
    "Pandas:\n",
    "Pandas is an open-source, BSD-licensed Python library providing high-performance, easy-to-use \n",
    "data structures and data analysis tools for the Python programming language. Python with \n",
    "Pandas is used in a wide range of fields including academic and commercial domains including \n",
    "finance, economics, Statistics, analytics, etc.In this tutorial, we will learn the various features of \n",
    "Python Pandas and how to use them in practice.\n",
    "Scikit Learn\n",
    "Scikit-learn provides a range of supervised and unsupervised learning algorithms via a \n",
    "consistent interface in Python.\n",
    "The library is built upon the SciPy (Scientific Python) that must be installed before you can \n",
    "use scikit-learn. This stack that includes:\n",
    "NumPy: Base n-dimensional array package\n",
    "SciPy: Fundamental library for scientific computing\n",
    "Matplotlib: Comprehensive 2D/3D plotting\n",
    "IPython: Enhanced interactive console\n",
    "Sympy: Symbolic mathematics\n",
    "Pandas: Data structures and analysis\n",
    "Extensions or modules for SciPy care conventionally named SciKits. As such, the module \n",
    "provides learning algorithms and is named scikit-learn.\n",
    "The vision for the library is a level of robustness and support required for use in production systems. \n",
    "This means a deep focus on concerns such as easy of use, code quality, collaboration, \n",
    "documentation and performance.\n",
    "Machine Learning skills required to complete the \n",
    "project\n",
    "Supervised learning\n",
    "Supervised learning deals with learning a function from available training data. A supervised \n",
    "learning algorithm analyzes the training data and produces an inferred function, which can be \n",
    "used for mapping new examples.\n",
    "http://localhost:8888/notebooks/20th%20Januray/ML%20Project(Updated)%20(1).ipynb# 2/4\n",
    "1/19/2018 ML Project(Updated) (1)\n",
    "Regression\n",
    "Regression is a parametric technique used to predict continuous (dependent) variable given a set \n",
    "of independent variables. It is parametric in nature because it makes certain assumptions \n",
    "(discussed next) based on the data set. If the data set follows those assumptions, regression gives \n",
    "incredible results.\n",
    "Model evaluation\n",
    "Student must know how to judge a model on unseen data. What metric to select to judge \n",
    "the performance\n",
    "Let's get started.....\n",
    "Import Libraries\n",
    "In [1]: import sqlite3\n",
    "import pandas as pd\n",
    "from sklearn.tree import DecisionTreeRegressor from \n",
    "sklearn.linear_model import LinearRegression from \n",
    "sklearn.model_selection import train_test_split\n",
    "from sklearn.metrics import mean_squared_error from \n",
    "math import sqrt\n",
    "Read Data from the Database into pandas\n",
    "In [2]: # Create your connection.\n",
    "cnx = sqlite3.connect('database.sqlite')\n",
    "df = pd.read_sql_query(\"SELECT * FROM Player_Attributes\", cnx)\n",
    "http://localhost:8888/notebooks/20th%20Januray/ML%20Project(Updated)%20(1).ipynb# 3/4\n",
    "1/19/2018 ML Project(Updated) (1)\n",
    "In [3]: df.head()\n",
    "Out[3]: id player_fifa_api_id player_api_id date overall_rating potential preferred_foot attacking_\n",
    "0\n",
    "2016-\n",
    "1 218353 505942 02-18 67.0 71.0 right\n",
    "00:00:00\n",
    "1\n",
    "2015-\n",
    "2 218353 505942 11-19 67.0 71.0 right\n",
    "00:00:00\n",
    "2\n",
    "2015-\n",
    "3 218353 505942 09-21 62.0 66.0 right\n",
    "00:00:00\n",
    "3\n",
    "2015-\n",
    "4 218353 505942 03-20 61.0 65.0 right\n",
    "00:00:00\n",
    "4\n",
    "2007-\n",
    "5 218353 505942 02-22 61.0 65.0 right\n",
    "00:00:00\n",
    "5 rows × 42 columns\n",
    "In [ ]:\n",
    "http://localhost:8888/notebooks/20th%20Januray/ML%20Project(Updated)%20(1).ipynb# 4/4\n",
    "3. Output\n",
    "This project consists of 3000 marks and has to be submitted \n",
    "in .ipynb/PDF format in the upcoming session for evaluationimport sqlite3\n"
   ]
  },
  {
   "cell_type": "code",
   "execution_count": 1,
   "id": "b5c870a6",
   "metadata": {},
   "outputs": [],
   "source": [
    "import sqlite3\n",
    "import numpy as np\n",
    "import pandas as pd\n",
    "%matplotlib notebook\n",
    "import matplotlib.pyplot as plt\n",
    "import xgboost as xgb\n",
    "from xgboost.sklearn import XGBRegressor\n",
    "from xgboost import plot_importance\n",
    "\n",
    "from sklearn.linear_model import LinearRegression\n",
    "from sklearn.tree import DecisionTreeRegressor\n",
    "from sklearn.ensemble import RandomForestRegressor\n",
    "from sklearn.preprocessing import StandardScaler\n",
    "from sklearn.impute import SimpleImputer\n",
    "from sklearn.feature_selection import SelectFromModel\n",
    "from sklearn.model_selection import train_test_split, GridSearchCV, ShuffleSplit, RandomizedSearchCV\n",
    "from sklearn.pipeline import make_pipeline\n",
    "\n",
    "import pickle"
   ]
  },
  {
   "cell_type": "code",
   "execution_count": 2,
   "id": "c50a45ef",
   "metadata": {},
   "outputs": [],
   "source": [
    "cnx = sqlite3.connect('database.sqlite')"
   ]
  },
  {
   "cell_type": "code",
   "execution_count": 3,
   "id": "a658c1cd",
   "metadata": {},
   "outputs": [],
   "source": [
    "df= pd.read_sql_query(\"SELECT * FROM Player_Attributes\", cnx)"
   ]
  },
  {
   "cell_type": "code",
   "execution_count": 4,
   "id": "4cb7424b",
   "metadata": {},
   "outputs": [
    {
     "data": {
      "text/html": [
       "<div>\n",
       "<style scoped>\n",
       "    .dataframe tbody tr th:only-of-type {\n",
       "        vertical-align: middle;\n",
       "    }\n",
       "\n",
       "    .dataframe tbody tr th {\n",
       "        vertical-align: top;\n",
       "    }\n",
       "\n",
       "    .dataframe thead th {\n",
       "        text-align: right;\n",
       "    }\n",
       "</style>\n",
       "<table border=\"1\" class=\"dataframe\">\n",
       "  <thead>\n",
       "    <tr style=\"text-align: right;\">\n",
       "      <th></th>\n",
       "      <th>id</th>\n",
       "      <th>player_fifa_api_id</th>\n",
       "      <th>player_api_id</th>\n",
       "      <th>date</th>\n",
       "      <th>overall_rating</th>\n",
       "      <th>potential</th>\n",
       "      <th>preferred_foot</th>\n",
       "      <th>attacking_work_rate</th>\n",
       "      <th>defensive_work_rate</th>\n",
       "      <th>crossing</th>\n",
       "      <th>...</th>\n",
       "      <th>vision</th>\n",
       "      <th>penalties</th>\n",
       "      <th>marking</th>\n",
       "      <th>standing_tackle</th>\n",
       "      <th>sliding_tackle</th>\n",
       "      <th>gk_diving</th>\n",
       "      <th>gk_handling</th>\n",
       "      <th>gk_kicking</th>\n",
       "      <th>gk_positioning</th>\n",
       "      <th>gk_reflexes</th>\n",
       "    </tr>\n",
       "  </thead>\n",
       "  <tbody>\n",
       "    <tr>\n",
       "      <th>0</th>\n",
       "      <td>1</td>\n",
       "      <td>218353</td>\n",
       "      <td>505942</td>\n",
       "      <td>2016-02-18 00:00:00</td>\n",
       "      <td>67.0</td>\n",
       "      <td>71.0</td>\n",
       "      <td>right</td>\n",
       "      <td>medium</td>\n",
       "      <td>medium</td>\n",
       "      <td>49.0</td>\n",
       "      <td>...</td>\n",
       "      <td>54.0</td>\n",
       "      <td>48.0</td>\n",
       "      <td>65.0</td>\n",
       "      <td>69.0</td>\n",
       "      <td>69.0</td>\n",
       "      <td>6.0</td>\n",
       "      <td>11.0</td>\n",
       "      <td>10.0</td>\n",
       "      <td>8.0</td>\n",
       "      <td>8.0</td>\n",
       "    </tr>\n",
       "    <tr>\n",
       "      <th>1</th>\n",
       "      <td>2</td>\n",
       "      <td>218353</td>\n",
       "      <td>505942</td>\n",
       "      <td>2015-11-19 00:00:00</td>\n",
       "      <td>67.0</td>\n",
       "      <td>71.0</td>\n",
       "      <td>right</td>\n",
       "      <td>medium</td>\n",
       "      <td>medium</td>\n",
       "      <td>49.0</td>\n",
       "      <td>...</td>\n",
       "      <td>54.0</td>\n",
       "      <td>48.0</td>\n",
       "      <td>65.0</td>\n",
       "      <td>69.0</td>\n",
       "      <td>69.0</td>\n",
       "      <td>6.0</td>\n",
       "      <td>11.0</td>\n",
       "      <td>10.0</td>\n",
       "      <td>8.0</td>\n",
       "      <td>8.0</td>\n",
       "    </tr>\n",
       "    <tr>\n",
       "      <th>2</th>\n",
       "      <td>3</td>\n",
       "      <td>218353</td>\n",
       "      <td>505942</td>\n",
       "      <td>2015-09-21 00:00:00</td>\n",
       "      <td>62.0</td>\n",
       "      <td>66.0</td>\n",
       "      <td>right</td>\n",
       "      <td>medium</td>\n",
       "      <td>medium</td>\n",
       "      <td>49.0</td>\n",
       "      <td>...</td>\n",
       "      <td>54.0</td>\n",
       "      <td>48.0</td>\n",
       "      <td>65.0</td>\n",
       "      <td>66.0</td>\n",
       "      <td>69.0</td>\n",
       "      <td>6.0</td>\n",
       "      <td>11.0</td>\n",
       "      <td>10.0</td>\n",
       "      <td>8.0</td>\n",
       "      <td>8.0</td>\n",
       "    </tr>\n",
       "    <tr>\n",
       "      <th>3</th>\n",
       "      <td>4</td>\n",
       "      <td>218353</td>\n",
       "      <td>505942</td>\n",
       "      <td>2015-03-20 00:00:00</td>\n",
       "      <td>61.0</td>\n",
       "      <td>65.0</td>\n",
       "      <td>right</td>\n",
       "      <td>medium</td>\n",
       "      <td>medium</td>\n",
       "      <td>48.0</td>\n",
       "      <td>...</td>\n",
       "      <td>53.0</td>\n",
       "      <td>47.0</td>\n",
       "      <td>62.0</td>\n",
       "      <td>63.0</td>\n",
       "      <td>66.0</td>\n",
       "      <td>5.0</td>\n",
       "      <td>10.0</td>\n",
       "      <td>9.0</td>\n",
       "      <td>7.0</td>\n",
       "      <td>7.0</td>\n",
       "    </tr>\n",
       "    <tr>\n",
       "      <th>4</th>\n",
       "      <td>5</td>\n",
       "      <td>218353</td>\n",
       "      <td>505942</td>\n",
       "      <td>2007-02-22 00:00:00</td>\n",
       "      <td>61.0</td>\n",
       "      <td>65.0</td>\n",
       "      <td>right</td>\n",
       "      <td>medium</td>\n",
       "      <td>medium</td>\n",
       "      <td>48.0</td>\n",
       "      <td>...</td>\n",
       "      <td>53.0</td>\n",
       "      <td>47.0</td>\n",
       "      <td>62.0</td>\n",
       "      <td>63.0</td>\n",
       "      <td>66.0</td>\n",
       "      <td>5.0</td>\n",
       "      <td>10.0</td>\n",
       "      <td>9.0</td>\n",
       "      <td>7.0</td>\n",
       "      <td>7.0</td>\n",
       "    </tr>\n",
       "  </tbody>\n",
       "</table>\n",
       "<p>5 rows × 42 columns</p>\n",
       "</div>"
      ],
      "text/plain": [
       "   id  player_fifa_api_id  player_api_id                 date  overall_rating  \\\n",
       "0   1              218353         505942  2016-02-18 00:00:00            67.0   \n",
       "1   2              218353         505942  2015-11-19 00:00:00            67.0   \n",
       "2   3              218353         505942  2015-09-21 00:00:00            62.0   \n",
       "3   4              218353         505942  2015-03-20 00:00:00            61.0   \n",
       "4   5              218353         505942  2007-02-22 00:00:00            61.0   \n",
       "\n",
       "   potential preferred_foot attacking_work_rate defensive_work_rate  crossing  \\\n",
       "0       71.0          right              medium              medium      49.0   \n",
       "1       71.0          right              medium              medium      49.0   \n",
       "2       66.0          right              medium              medium      49.0   \n",
       "3       65.0          right              medium              medium      48.0   \n",
       "4       65.0          right              medium              medium      48.0   \n",
       "\n",
       "   ...  vision  penalties  marking  standing_tackle  sliding_tackle  \\\n",
       "0  ...    54.0       48.0     65.0             69.0            69.0   \n",
       "1  ...    54.0       48.0     65.0             69.0            69.0   \n",
       "2  ...    54.0       48.0     65.0             66.0            69.0   \n",
       "3  ...    53.0       47.0     62.0             63.0            66.0   \n",
       "4  ...    53.0       47.0     62.0             63.0            66.0   \n",
       "\n",
       "   gk_diving  gk_handling  gk_kicking  gk_positioning  gk_reflexes  \n",
       "0        6.0         11.0        10.0             8.0          8.0  \n",
       "1        6.0         11.0        10.0             8.0          8.0  \n",
       "2        6.0         11.0        10.0             8.0          8.0  \n",
       "3        5.0         10.0         9.0             7.0          7.0  \n",
       "4        5.0         10.0         9.0             7.0          7.0  \n",
       "\n",
       "[5 rows x 42 columns]"
      ]
     },
     "execution_count": 4,
     "metadata": {},
     "output_type": "execute_result"
    }
   ],
   "source": [
    "df.head()"
   ]
  },
  {
   "cell_type": "code",
   "execution_count": 5,
   "id": "e89aa937",
   "metadata": {},
   "outputs": [],
   "source": [
    "target = df.pop('overall_rating')  # creating target variable"
   ]
  },
  {
   "cell_type": "code",
   "execution_count": 6,
   "id": "c1cb4827",
   "metadata": {},
   "outputs": [
    {
     "data": {
      "text/plain": [
       "(183978, 41)"
      ]
     },
     "execution_count": 6,
     "metadata": {},
     "output_type": "execute_result"
    }
   ],
   "source": [
    "df.shape"
   ]
  },
  {
   "cell_type": "code",
   "execution_count": 7,
   "id": "b2a29f23",
   "metadata": {},
   "outputs": [
    {
     "data": {
      "text/plain": [
       "(183978,)"
      ]
     },
     "execution_count": 7,
     "metadata": {},
     "output_type": "execute_result"
    }
   ],
   "source": [
    "target.shape"
   ]
  },
  {
   "cell_type": "code",
   "execution_count": 8,
   "id": "572868aa",
   "metadata": {},
   "outputs": [
    {
     "data": {
      "text/plain": [
       "0    67.0\n",
       "1    67.0\n",
       "2    62.0\n",
       "3    61.0\n",
       "4    61.0\n",
       "Name: overall_rating, dtype: float64"
      ]
     },
     "execution_count": 8,
     "metadata": {},
     "output_type": "execute_result"
    }
   ],
   "source": [
    "target.head()"
   ]
  },
  {
   "cell_type": "code",
   "execution_count": 9,
   "id": "bffadc82",
   "metadata": {},
   "outputs": [
    {
     "data": {
      "text/plain": [
       "836"
      ]
     },
     "execution_count": 9,
     "metadata": {},
     "output_type": "execute_result"
    }
   ],
   "source": [
    "# finding null values from target\n",
    "\n",
    "target.isnull().values.sum()"
   ]
  },
  {
   "cell_type": "code",
   "execution_count": 10,
   "id": "d0c8bce8",
   "metadata": {},
   "outputs": [
    {
     "data": {
      "text/plain": [
       "count    183142.000000\n",
       "mean         68.600015\n",
       "std           7.041139\n",
       "min          33.000000\n",
       "25%          64.000000\n",
       "50%          69.000000\n",
       "75%          73.000000\n",
       "max          94.000000\n",
       "Name: overall_rating, dtype: float64"
      ]
     },
     "execution_count": 10,
     "metadata": {},
     "output_type": "execute_result"
    }
   ],
   "source": [
    "target.describe()"
   ]
  },
  {
   "cell_type": "code",
   "execution_count": 11,
   "id": "e6647e39",
   "metadata": {},
   "outputs": [
    {
     "data": {
      "application/javascript": [
       "/* Put everything inside the global mpl namespace */\n",
       "/* global mpl */\n",
       "window.mpl = {};\n",
       "\n",
       "mpl.get_websocket_type = function () {\n",
       "    if (typeof WebSocket !== 'undefined') {\n",
       "        return WebSocket;\n",
       "    } else if (typeof MozWebSocket !== 'undefined') {\n",
       "        return MozWebSocket;\n",
       "    } else {\n",
       "        alert(\n",
       "            'Your browser does not have WebSocket support. ' +\n",
       "                'Please try Chrome, Safari or Firefox ≥ 6. ' +\n",
       "                'Firefox 4 and 5 are also supported but you ' +\n",
       "                'have to enable WebSockets in about:config.'\n",
       "        );\n",
       "    }\n",
       "};\n",
       "\n",
       "mpl.figure = function (figure_id, websocket, ondownload, parent_element) {\n",
       "    this.id = figure_id;\n",
       "\n",
       "    this.ws = websocket;\n",
       "\n",
       "    this.supports_binary = this.ws.binaryType !== undefined;\n",
       "\n",
       "    if (!this.supports_binary) {\n",
       "        var warnings = document.getElementById('mpl-warnings');\n",
       "        if (warnings) {\n",
       "            warnings.style.display = 'block';\n",
       "            warnings.textContent =\n",
       "                'This browser does not support binary websocket messages. ' +\n",
       "                'Performance may be slow.';\n",
       "        }\n",
       "    }\n",
       "\n",
       "    this.imageObj = new Image();\n",
       "\n",
       "    this.context = undefined;\n",
       "    this.message = undefined;\n",
       "    this.canvas = undefined;\n",
       "    this.rubberband_canvas = undefined;\n",
       "    this.rubberband_context = undefined;\n",
       "    this.format_dropdown = undefined;\n",
       "\n",
       "    this.image_mode = 'full';\n",
       "\n",
       "    this.root = document.createElement('div');\n",
       "    this.root.setAttribute('style', 'display: inline-block');\n",
       "    this._root_extra_style(this.root);\n",
       "\n",
       "    parent_element.appendChild(this.root);\n",
       "\n",
       "    this._init_header(this);\n",
       "    this._init_canvas(this);\n",
       "    this._init_toolbar(this);\n",
       "\n",
       "    var fig = this;\n",
       "\n",
       "    this.waiting = false;\n",
       "\n",
       "    this.ws.onopen = function () {\n",
       "        fig.send_message('supports_binary', { value: fig.supports_binary });\n",
       "        fig.send_message('send_image_mode', {});\n",
       "        if (fig.ratio !== 1) {\n",
       "            fig.send_message('set_device_pixel_ratio', {\n",
       "                device_pixel_ratio: fig.ratio,\n",
       "            });\n",
       "        }\n",
       "        fig.send_message('refresh', {});\n",
       "    };\n",
       "\n",
       "    this.imageObj.onload = function () {\n",
       "        if (fig.image_mode === 'full') {\n",
       "            // Full images could contain transparency (where diff images\n",
       "            // almost always do), so we need to clear the canvas so that\n",
       "            // there is no ghosting.\n",
       "            fig.context.clearRect(0, 0, fig.canvas.width, fig.canvas.height);\n",
       "        }\n",
       "        fig.context.drawImage(fig.imageObj, 0, 0);\n",
       "    };\n",
       "\n",
       "    this.imageObj.onunload = function () {\n",
       "        fig.ws.close();\n",
       "    };\n",
       "\n",
       "    this.ws.onmessage = this._make_on_message_function(this);\n",
       "\n",
       "    this.ondownload = ondownload;\n",
       "};\n",
       "\n",
       "mpl.figure.prototype._init_header = function () {\n",
       "    var titlebar = document.createElement('div');\n",
       "    titlebar.classList =\n",
       "        'ui-dialog-titlebar ui-widget-header ui-corner-all ui-helper-clearfix';\n",
       "    var titletext = document.createElement('div');\n",
       "    titletext.classList = 'ui-dialog-title';\n",
       "    titletext.setAttribute(\n",
       "        'style',\n",
       "        'width: 100%; text-align: center; padding: 3px;'\n",
       "    );\n",
       "    titlebar.appendChild(titletext);\n",
       "    this.root.appendChild(titlebar);\n",
       "    this.header = titletext;\n",
       "};\n",
       "\n",
       "mpl.figure.prototype._canvas_extra_style = function (_canvas_div) {};\n",
       "\n",
       "mpl.figure.prototype._root_extra_style = function (_canvas_div) {};\n",
       "\n",
       "mpl.figure.prototype._init_canvas = function () {\n",
       "    var fig = this;\n",
       "\n",
       "    var canvas_div = (this.canvas_div = document.createElement('div'));\n",
       "    canvas_div.setAttribute(\n",
       "        'style',\n",
       "        'border: 1px solid #ddd;' +\n",
       "            'box-sizing: content-box;' +\n",
       "            'clear: both;' +\n",
       "            'min-height: 1px;' +\n",
       "            'min-width: 1px;' +\n",
       "            'outline: 0;' +\n",
       "            'overflow: hidden;' +\n",
       "            'position: relative;' +\n",
       "            'resize: both;'\n",
       "    );\n",
       "\n",
       "    function on_keyboard_event_closure(name) {\n",
       "        return function (event) {\n",
       "            return fig.key_event(event, name);\n",
       "        };\n",
       "    }\n",
       "\n",
       "    canvas_div.addEventListener(\n",
       "        'keydown',\n",
       "        on_keyboard_event_closure('key_press')\n",
       "    );\n",
       "    canvas_div.addEventListener(\n",
       "        'keyup',\n",
       "        on_keyboard_event_closure('key_release')\n",
       "    );\n",
       "\n",
       "    this._canvas_extra_style(canvas_div);\n",
       "    this.root.appendChild(canvas_div);\n",
       "\n",
       "    var canvas = (this.canvas = document.createElement('canvas'));\n",
       "    canvas.classList.add('mpl-canvas');\n",
       "    canvas.setAttribute('style', 'box-sizing: content-box;');\n",
       "\n",
       "    this.context = canvas.getContext('2d');\n",
       "\n",
       "    var backingStore =\n",
       "        this.context.backingStorePixelRatio ||\n",
       "        this.context.webkitBackingStorePixelRatio ||\n",
       "        this.context.mozBackingStorePixelRatio ||\n",
       "        this.context.msBackingStorePixelRatio ||\n",
       "        this.context.oBackingStorePixelRatio ||\n",
       "        this.context.backingStorePixelRatio ||\n",
       "        1;\n",
       "\n",
       "    this.ratio = (window.devicePixelRatio || 1) / backingStore;\n",
       "\n",
       "    var rubberband_canvas = (this.rubberband_canvas = document.createElement(\n",
       "        'canvas'\n",
       "    ));\n",
       "    rubberband_canvas.setAttribute(\n",
       "        'style',\n",
       "        'box-sizing: content-box; position: absolute; left: 0; top: 0; z-index: 1;'\n",
       "    );\n",
       "\n",
       "    // Apply a ponyfill if ResizeObserver is not implemented by browser.\n",
       "    if (this.ResizeObserver === undefined) {\n",
       "        if (window.ResizeObserver !== undefined) {\n",
       "            this.ResizeObserver = window.ResizeObserver;\n",
       "        } else {\n",
       "            var obs = _JSXTOOLS_RESIZE_OBSERVER({});\n",
       "            this.ResizeObserver = obs.ResizeObserver;\n",
       "        }\n",
       "    }\n",
       "\n",
       "    this.resizeObserverInstance = new this.ResizeObserver(function (entries) {\n",
       "        var nentries = entries.length;\n",
       "        for (var i = 0; i < nentries; i++) {\n",
       "            var entry = entries[i];\n",
       "            var width, height;\n",
       "            if (entry.contentBoxSize) {\n",
       "                if (entry.contentBoxSize instanceof Array) {\n",
       "                    // Chrome 84 implements new version of spec.\n",
       "                    width = entry.contentBoxSize[0].inlineSize;\n",
       "                    height = entry.contentBoxSize[0].blockSize;\n",
       "                } else {\n",
       "                    // Firefox implements old version of spec.\n",
       "                    width = entry.contentBoxSize.inlineSize;\n",
       "                    height = entry.contentBoxSize.blockSize;\n",
       "                }\n",
       "            } else {\n",
       "                // Chrome <84 implements even older version of spec.\n",
       "                width = entry.contentRect.width;\n",
       "                height = entry.contentRect.height;\n",
       "            }\n",
       "\n",
       "            // Keep the size of the canvas and rubber band canvas in sync with\n",
       "            // the canvas container.\n",
       "            if (entry.devicePixelContentBoxSize) {\n",
       "                // Chrome 84 implements new version of spec.\n",
       "                canvas.setAttribute(\n",
       "                    'width',\n",
       "                    entry.devicePixelContentBoxSize[0].inlineSize\n",
       "                );\n",
       "                canvas.setAttribute(\n",
       "                    'height',\n",
       "                    entry.devicePixelContentBoxSize[0].blockSize\n",
       "                );\n",
       "            } else {\n",
       "                canvas.setAttribute('width', width * fig.ratio);\n",
       "                canvas.setAttribute('height', height * fig.ratio);\n",
       "            }\n",
       "            canvas.setAttribute(\n",
       "                'style',\n",
       "                'width: ' + width + 'px; height: ' + height + 'px;'\n",
       "            );\n",
       "\n",
       "            rubberband_canvas.setAttribute('width', width);\n",
       "            rubberband_canvas.setAttribute('height', height);\n",
       "\n",
       "            // And update the size in Python. We ignore the initial 0/0 size\n",
       "            // that occurs as the element is placed into the DOM, which should\n",
       "            // otherwise not happen due to the minimum size styling.\n",
       "            if (fig.ws.readyState == 1 && width != 0 && height != 0) {\n",
       "                fig.request_resize(width, height);\n",
       "            }\n",
       "        }\n",
       "    });\n",
       "    this.resizeObserverInstance.observe(canvas_div);\n",
       "\n",
       "    function on_mouse_event_closure(name) {\n",
       "        return function (event) {\n",
       "            return fig.mouse_event(event, name);\n",
       "        };\n",
       "    }\n",
       "\n",
       "    rubberband_canvas.addEventListener(\n",
       "        'mousedown',\n",
       "        on_mouse_event_closure('button_press')\n",
       "    );\n",
       "    rubberband_canvas.addEventListener(\n",
       "        'mouseup',\n",
       "        on_mouse_event_closure('button_release')\n",
       "    );\n",
       "    rubberband_canvas.addEventListener(\n",
       "        'dblclick',\n",
       "        on_mouse_event_closure('dblclick')\n",
       "    );\n",
       "    // Throttle sequential mouse events to 1 every 20ms.\n",
       "    rubberband_canvas.addEventListener(\n",
       "        'mousemove',\n",
       "        on_mouse_event_closure('motion_notify')\n",
       "    );\n",
       "\n",
       "    rubberband_canvas.addEventListener(\n",
       "        'mouseenter',\n",
       "        on_mouse_event_closure('figure_enter')\n",
       "    );\n",
       "    rubberband_canvas.addEventListener(\n",
       "        'mouseleave',\n",
       "        on_mouse_event_closure('figure_leave')\n",
       "    );\n",
       "\n",
       "    canvas_div.addEventListener('wheel', function (event) {\n",
       "        if (event.deltaY < 0) {\n",
       "            event.step = 1;\n",
       "        } else {\n",
       "            event.step = -1;\n",
       "        }\n",
       "        on_mouse_event_closure('scroll')(event);\n",
       "    });\n",
       "\n",
       "    canvas_div.appendChild(canvas);\n",
       "    canvas_div.appendChild(rubberband_canvas);\n",
       "\n",
       "    this.rubberband_context = rubberband_canvas.getContext('2d');\n",
       "    this.rubberband_context.strokeStyle = '#000000';\n",
       "\n",
       "    this._resize_canvas = function (width, height, forward) {\n",
       "        if (forward) {\n",
       "            canvas_div.style.width = width + 'px';\n",
       "            canvas_div.style.height = height + 'px';\n",
       "        }\n",
       "    };\n",
       "\n",
       "    // Disable right mouse context menu.\n",
       "    this.rubberband_canvas.addEventListener('contextmenu', function (_e) {\n",
       "        event.preventDefault();\n",
       "        return false;\n",
       "    });\n",
       "\n",
       "    function set_focus() {\n",
       "        canvas.focus();\n",
       "        canvas_div.focus();\n",
       "    }\n",
       "\n",
       "    window.setTimeout(set_focus, 100);\n",
       "};\n",
       "\n",
       "mpl.figure.prototype._init_toolbar = function () {\n",
       "    var fig = this;\n",
       "\n",
       "    var toolbar = document.createElement('div');\n",
       "    toolbar.classList = 'mpl-toolbar';\n",
       "    this.root.appendChild(toolbar);\n",
       "\n",
       "    function on_click_closure(name) {\n",
       "        return function (_event) {\n",
       "            return fig.toolbar_button_onclick(name);\n",
       "        };\n",
       "    }\n",
       "\n",
       "    function on_mouseover_closure(tooltip) {\n",
       "        return function (event) {\n",
       "            if (!event.currentTarget.disabled) {\n",
       "                return fig.toolbar_button_onmouseover(tooltip);\n",
       "            }\n",
       "        };\n",
       "    }\n",
       "\n",
       "    fig.buttons = {};\n",
       "    var buttonGroup = document.createElement('div');\n",
       "    buttonGroup.classList = 'mpl-button-group';\n",
       "    for (var toolbar_ind in mpl.toolbar_items) {\n",
       "        var name = mpl.toolbar_items[toolbar_ind][0];\n",
       "        var tooltip = mpl.toolbar_items[toolbar_ind][1];\n",
       "        var image = mpl.toolbar_items[toolbar_ind][2];\n",
       "        var method_name = mpl.toolbar_items[toolbar_ind][3];\n",
       "\n",
       "        if (!name) {\n",
       "            /* Instead of a spacer, we start a new button group. */\n",
       "            if (buttonGroup.hasChildNodes()) {\n",
       "                toolbar.appendChild(buttonGroup);\n",
       "            }\n",
       "            buttonGroup = document.createElement('div');\n",
       "            buttonGroup.classList = 'mpl-button-group';\n",
       "            continue;\n",
       "        }\n",
       "\n",
       "        var button = (fig.buttons[name] = document.createElement('button'));\n",
       "        button.classList = 'mpl-widget';\n",
       "        button.setAttribute('role', 'button');\n",
       "        button.setAttribute('aria-disabled', 'false');\n",
       "        button.addEventListener('click', on_click_closure(method_name));\n",
       "        button.addEventListener('mouseover', on_mouseover_closure(tooltip));\n",
       "\n",
       "        var icon_img = document.createElement('img');\n",
       "        icon_img.src = '_images/' + image + '.png';\n",
       "        icon_img.srcset = '_images/' + image + '_large.png 2x';\n",
       "        icon_img.alt = tooltip;\n",
       "        button.appendChild(icon_img);\n",
       "\n",
       "        buttonGroup.appendChild(button);\n",
       "    }\n",
       "\n",
       "    if (buttonGroup.hasChildNodes()) {\n",
       "        toolbar.appendChild(buttonGroup);\n",
       "    }\n",
       "\n",
       "    var fmt_picker = document.createElement('select');\n",
       "    fmt_picker.classList = 'mpl-widget';\n",
       "    toolbar.appendChild(fmt_picker);\n",
       "    this.format_dropdown = fmt_picker;\n",
       "\n",
       "    for (var ind in mpl.extensions) {\n",
       "        var fmt = mpl.extensions[ind];\n",
       "        var option = document.createElement('option');\n",
       "        option.selected = fmt === mpl.default_extension;\n",
       "        option.innerHTML = fmt;\n",
       "        fmt_picker.appendChild(option);\n",
       "    }\n",
       "\n",
       "    var status_bar = document.createElement('span');\n",
       "    status_bar.classList = 'mpl-message';\n",
       "    toolbar.appendChild(status_bar);\n",
       "    this.message = status_bar;\n",
       "};\n",
       "\n",
       "mpl.figure.prototype.request_resize = function (x_pixels, y_pixels) {\n",
       "    // Request matplotlib to resize the figure. Matplotlib will then trigger a resize in the client,\n",
       "    // which will in turn request a refresh of the image.\n",
       "    this.send_message('resize', { width: x_pixels, height: y_pixels });\n",
       "};\n",
       "\n",
       "mpl.figure.prototype.send_message = function (type, properties) {\n",
       "    properties['type'] = type;\n",
       "    properties['figure_id'] = this.id;\n",
       "    this.ws.send(JSON.stringify(properties));\n",
       "};\n",
       "\n",
       "mpl.figure.prototype.send_draw_message = function () {\n",
       "    if (!this.waiting) {\n",
       "        this.waiting = true;\n",
       "        this.ws.send(JSON.stringify({ type: 'draw', figure_id: this.id }));\n",
       "    }\n",
       "};\n",
       "\n",
       "mpl.figure.prototype.handle_save = function (fig, _msg) {\n",
       "    var format_dropdown = fig.format_dropdown;\n",
       "    var format = format_dropdown.options[format_dropdown.selectedIndex].value;\n",
       "    fig.ondownload(fig, format);\n",
       "};\n",
       "\n",
       "mpl.figure.prototype.handle_resize = function (fig, msg) {\n",
       "    var size = msg['size'];\n",
       "    if (size[0] !== fig.canvas.width || size[1] !== fig.canvas.height) {\n",
       "        fig._resize_canvas(size[0], size[1], msg['forward']);\n",
       "        fig.send_message('refresh', {});\n",
       "    }\n",
       "};\n",
       "\n",
       "mpl.figure.prototype.handle_rubberband = function (fig, msg) {\n",
       "    var x0 = msg['x0'] / fig.ratio;\n",
       "    var y0 = (fig.canvas.height - msg['y0']) / fig.ratio;\n",
       "    var x1 = msg['x1'] / fig.ratio;\n",
       "    var y1 = (fig.canvas.height - msg['y1']) / fig.ratio;\n",
       "    x0 = Math.floor(x0) + 0.5;\n",
       "    y0 = Math.floor(y0) + 0.5;\n",
       "    x1 = Math.floor(x1) + 0.5;\n",
       "    y1 = Math.floor(y1) + 0.5;\n",
       "    var min_x = Math.min(x0, x1);\n",
       "    var min_y = Math.min(y0, y1);\n",
       "    var width = Math.abs(x1 - x0);\n",
       "    var height = Math.abs(y1 - y0);\n",
       "\n",
       "    fig.rubberband_context.clearRect(\n",
       "        0,\n",
       "        0,\n",
       "        fig.canvas.width / fig.ratio,\n",
       "        fig.canvas.height / fig.ratio\n",
       "    );\n",
       "\n",
       "    fig.rubberband_context.strokeRect(min_x, min_y, width, height);\n",
       "};\n",
       "\n",
       "mpl.figure.prototype.handle_figure_label = function (fig, msg) {\n",
       "    // Updates the figure title.\n",
       "    fig.header.textContent = msg['label'];\n",
       "};\n",
       "\n",
       "mpl.figure.prototype.handle_cursor = function (fig, msg) {\n",
       "    fig.rubberband_canvas.style.cursor = msg['cursor'];\n",
       "};\n",
       "\n",
       "mpl.figure.prototype.handle_message = function (fig, msg) {\n",
       "    fig.message.textContent = msg['message'];\n",
       "};\n",
       "\n",
       "mpl.figure.prototype.handle_draw = function (fig, _msg) {\n",
       "    // Request the server to send over a new figure.\n",
       "    fig.send_draw_message();\n",
       "};\n",
       "\n",
       "mpl.figure.prototype.handle_image_mode = function (fig, msg) {\n",
       "    fig.image_mode = msg['mode'];\n",
       "};\n",
       "\n",
       "mpl.figure.prototype.handle_history_buttons = function (fig, msg) {\n",
       "    for (var key in msg) {\n",
       "        if (!(key in fig.buttons)) {\n",
       "            continue;\n",
       "        }\n",
       "        fig.buttons[key].disabled = !msg[key];\n",
       "        fig.buttons[key].setAttribute('aria-disabled', !msg[key]);\n",
       "    }\n",
       "};\n",
       "\n",
       "mpl.figure.prototype.handle_navigate_mode = function (fig, msg) {\n",
       "    if (msg['mode'] === 'PAN') {\n",
       "        fig.buttons['Pan'].classList.add('active');\n",
       "        fig.buttons['Zoom'].classList.remove('active');\n",
       "    } else if (msg['mode'] === 'ZOOM') {\n",
       "        fig.buttons['Pan'].classList.remove('active');\n",
       "        fig.buttons['Zoom'].classList.add('active');\n",
       "    } else {\n",
       "        fig.buttons['Pan'].classList.remove('active');\n",
       "        fig.buttons['Zoom'].classList.remove('active');\n",
       "    }\n",
       "};\n",
       "\n",
       "mpl.figure.prototype.updated_canvas_event = function () {\n",
       "    // Called whenever the canvas gets updated.\n",
       "    this.send_message('ack', {});\n",
       "};\n",
       "\n",
       "// A function to construct a web socket function for onmessage handling.\n",
       "// Called in the figure constructor.\n",
       "mpl.figure.prototype._make_on_message_function = function (fig) {\n",
       "    return function socket_on_message(evt) {\n",
       "        if (evt.data instanceof Blob) {\n",
       "            var img = evt.data;\n",
       "            if (img.type !== 'image/png') {\n",
       "                /* FIXME: We get \"Resource interpreted as Image but\n",
       "                 * transferred with MIME type text/plain:\" errors on\n",
       "                 * Chrome.  But how to set the MIME type?  It doesn't seem\n",
       "                 * to be part of the websocket stream */\n",
       "                img.type = 'image/png';\n",
       "            }\n",
       "\n",
       "            /* Free the memory for the previous frames */\n",
       "            if (fig.imageObj.src) {\n",
       "                (window.URL || window.webkitURL).revokeObjectURL(\n",
       "                    fig.imageObj.src\n",
       "                );\n",
       "            }\n",
       "\n",
       "            fig.imageObj.src = (window.URL || window.webkitURL).createObjectURL(\n",
       "                img\n",
       "            );\n",
       "            fig.updated_canvas_event();\n",
       "            fig.waiting = false;\n",
       "            return;\n",
       "        } else if (\n",
       "            typeof evt.data === 'string' &&\n",
       "            evt.data.slice(0, 21) === 'data:image/png;base64'\n",
       "        ) {\n",
       "            fig.imageObj.src = evt.data;\n",
       "            fig.updated_canvas_event();\n",
       "            fig.waiting = false;\n",
       "            return;\n",
       "        }\n",
       "\n",
       "        var msg = JSON.parse(evt.data);\n",
       "        var msg_type = msg['type'];\n",
       "\n",
       "        // Call the  \"handle_{type}\" callback, which takes\n",
       "        // the figure and JSON message as its only arguments.\n",
       "        try {\n",
       "            var callback = fig['handle_' + msg_type];\n",
       "        } catch (e) {\n",
       "            console.log(\n",
       "                \"No handler for the '\" + msg_type + \"' message type: \",\n",
       "                msg\n",
       "            );\n",
       "            return;\n",
       "        }\n",
       "\n",
       "        if (callback) {\n",
       "            try {\n",
       "                // console.log(\"Handling '\" + msg_type + \"' message: \", msg);\n",
       "                callback(fig, msg);\n",
       "            } catch (e) {\n",
       "                console.log(\n",
       "                    \"Exception inside the 'handler_\" + msg_type + \"' callback:\",\n",
       "                    e,\n",
       "                    e.stack,\n",
       "                    msg\n",
       "                );\n",
       "            }\n",
       "        }\n",
       "    };\n",
       "};\n",
       "\n",
       "// from https://stackoverflow.com/questions/1114465/getting-mouse-location-in-canvas\n",
       "mpl.findpos = function (e) {\n",
       "    //this section is from http://www.quirksmode.org/js/events_properties.html\n",
       "    var targ;\n",
       "    if (!e) {\n",
       "        e = window.event;\n",
       "    }\n",
       "    if (e.target) {\n",
       "        targ = e.target;\n",
       "    } else if (e.srcElement) {\n",
       "        targ = e.srcElement;\n",
       "    }\n",
       "    if (targ.nodeType === 3) {\n",
       "        // defeat Safari bug\n",
       "        targ = targ.parentNode;\n",
       "    }\n",
       "\n",
       "    // pageX,Y are the mouse positions relative to the document\n",
       "    var boundingRect = targ.getBoundingClientRect();\n",
       "    var x = e.pageX - (boundingRect.left + document.body.scrollLeft);\n",
       "    var y = e.pageY - (boundingRect.top + document.body.scrollTop);\n",
       "\n",
       "    return { x: x, y: y };\n",
       "};\n",
       "\n",
       "/*\n",
       " * return a copy of an object with only non-object keys\n",
       " * we need this to avoid circular references\n",
       " * https://stackoverflow.com/a/24161582/3208463\n",
       " */\n",
       "function simpleKeys(original) {\n",
       "    return Object.keys(original).reduce(function (obj, key) {\n",
       "        if (typeof original[key] !== 'object') {\n",
       "            obj[key] = original[key];\n",
       "        }\n",
       "        return obj;\n",
       "    }, {});\n",
       "}\n",
       "\n",
       "mpl.figure.prototype.mouse_event = function (event, name) {\n",
       "    var canvas_pos = mpl.findpos(event);\n",
       "\n",
       "    if (name === 'button_press') {\n",
       "        this.canvas.focus();\n",
       "        this.canvas_div.focus();\n",
       "    }\n",
       "\n",
       "    var x = canvas_pos.x * this.ratio;\n",
       "    var y = canvas_pos.y * this.ratio;\n",
       "\n",
       "    this.send_message(name, {\n",
       "        x: x,\n",
       "        y: y,\n",
       "        button: event.button,\n",
       "        step: event.step,\n",
       "        guiEvent: simpleKeys(event),\n",
       "    });\n",
       "\n",
       "    /* This prevents the web browser from automatically changing to\n",
       "     * the text insertion cursor when the button is pressed.  We want\n",
       "     * to control all of the cursor setting manually through the\n",
       "     * 'cursor' event from matplotlib */\n",
       "    event.preventDefault();\n",
       "    return false;\n",
       "};\n",
       "\n",
       "mpl.figure.prototype._key_event_extra = function (_event, _name) {\n",
       "    // Handle any extra behaviour associated with a key event\n",
       "};\n",
       "\n",
       "mpl.figure.prototype.key_event = function (event, name) {\n",
       "    // Prevent repeat events\n",
       "    if (name === 'key_press') {\n",
       "        if (event.key === this._key) {\n",
       "            return;\n",
       "        } else {\n",
       "            this._key = event.key;\n",
       "        }\n",
       "    }\n",
       "    if (name === 'key_release') {\n",
       "        this._key = null;\n",
       "    }\n",
       "\n",
       "    var value = '';\n",
       "    if (event.ctrlKey && event.key !== 'Control') {\n",
       "        value += 'ctrl+';\n",
       "    }\n",
       "    else if (event.altKey && event.key !== 'Alt') {\n",
       "        value += 'alt+';\n",
       "    }\n",
       "    else if (event.shiftKey && event.key !== 'Shift') {\n",
       "        value += 'shift+';\n",
       "    }\n",
       "\n",
       "    value += 'k' + event.key;\n",
       "\n",
       "    this._key_event_extra(event, name);\n",
       "\n",
       "    this.send_message(name, { key: value, guiEvent: simpleKeys(event) });\n",
       "    return false;\n",
       "};\n",
       "\n",
       "mpl.figure.prototype.toolbar_button_onclick = function (name) {\n",
       "    if (name === 'download') {\n",
       "        this.handle_save(this, null);\n",
       "    } else {\n",
       "        this.send_message('toolbar_button', { name: name });\n",
       "    }\n",
       "};\n",
       "\n",
       "mpl.figure.prototype.toolbar_button_onmouseover = function (tooltip) {\n",
       "    this.message.textContent = tooltip;\n",
       "};\n",
       "\n",
       "///////////////// REMAINING CONTENT GENERATED BY embed_js.py /////////////////\n",
       "// prettier-ignore\n",
       "var _JSXTOOLS_RESIZE_OBSERVER=function(A){var t,i=new WeakMap,n=new WeakMap,a=new WeakMap,r=new WeakMap,o=new Set;function s(e){if(!(this instanceof s))throw new TypeError(\"Constructor requires 'new' operator\");i.set(this,e)}function h(){throw new TypeError(\"Function is not a constructor\")}function c(e,t,i,n){e=0 in arguments?Number(arguments[0]):0,t=1 in arguments?Number(arguments[1]):0,i=2 in arguments?Number(arguments[2]):0,n=3 in arguments?Number(arguments[3]):0,this.right=(this.x=this.left=e)+(this.width=i),this.bottom=(this.y=this.top=t)+(this.height=n),Object.freeze(this)}function d(){t=requestAnimationFrame(d);var s=new WeakMap,p=new Set;o.forEach((function(t){r.get(t).forEach((function(i){var r=t instanceof window.SVGElement,o=a.get(t),d=r?0:parseFloat(o.paddingTop),f=r?0:parseFloat(o.paddingRight),l=r?0:parseFloat(o.paddingBottom),u=r?0:parseFloat(o.paddingLeft),g=r?0:parseFloat(o.borderTopWidth),m=r?0:parseFloat(o.borderRightWidth),w=r?0:parseFloat(o.borderBottomWidth),b=u+f,F=d+l,v=(r?0:parseFloat(o.borderLeftWidth))+m,W=g+w,y=r?0:t.offsetHeight-W-t.clientHeight,E=r?0:t.offsetWidth-v-t.clientWidth,R=b+v,z=F+W,M=r?t.width:parseFloat(o.width)-R-E,O=r?t.height:parseFloat(o.height)-z-y;if(n.has(t)){var k=n.get(t);if(k[0]===M&&k[1]===O)return}n.set(t,[M,O]);var S=Object.create(h.prototype);S.target=t,S.contentRect=new c(u,d,M,O),s.has(i)||(s.set(i,[]),p.add(i)),s.get(i).push(S)}))})),p.forEach((function(e){i.get(e).call(e,s.get(e),e)}))}return s.prototype.observe=function(i){if(i instanceof window.Element){r.has(i)||(r.set(i,new Set),o.add(i),a.set(i,window.getComputedStyle(i)));var n=r.get(i);n.has(this)||n.add(this),cancelAnimationFrame(t),t=requestAnimationFrame(d)}},s.prototype.unobserve=function(i){if(i instanceof window.Element&&r.has(i)){var n=r.get(i);n.has(this)&&(n.delete(this),n.size||(r.delete(i),o.delete(i))),n.size||r.delete(i),o.size||cancelAnimationFrame(t)}},A.DOMRectReadOnly=c,A.ResizeObserver=s,A.ResizeObserverEntry=h,A}; // eslint-disable-line\n",
       "mpl.toolbar_items = [[\"Home\", \"Reset original view\", \"fa fa-home icon-home\", \"home\"], [\"Back\", \"Back to previous view\", \"fa fa-arrow-left icon-arrow-left\", \"back\"], [\"Forward\", \"Forward to next view\", \"fa fa-arrow-right icon-arrow-right\", \"forward\"], [\"\", \"\", \"\", \"\"], [\"Pan\", \"Left button pans, Right button zooms\\nx/y fixes axis, CTRL fixes aspect\", \"fa fa-arrows icon-move\", \"pan\"], [\"Zoom\", \"Zoom to rectangle\\nx/y fixes axis\", \"fa fa-square-o icon-check-empty\", \"zoom\"], [\"\", \"\", \"\", \"\"], [\"Download\", \"Download plot\", \"fa fa-floppy-o icon-save\", \"download\"]];\n",
       "\n",
       "mpl.extensions = [\"eps\", \"jpeg\", \"pgf\", \"pdf\", \"png\", \"ps\", \"raw\", \"svg\", \"tif\"];\n",
       "\n",
       "mpl.default_extension = \"png\";/* global mpl */\n",
       "\n",
       "var comm_websocket_adapter = function (comm) {\n",
       "    // Create a \"websocket\"-like object which calls the given IPython comm\n",
       "    // object with the appropriate methods. Currently this is a non binary\n",
       "    // socket, so there is still some room for performance tuning.\n",
       "    var ws = {};\n",
       "\n",
       "    ws.binaryType = comm.kernel.ws.binaryType;\n",
       "    ws.readyState = comm.kernel.ws.readyState;\n",
       "    function updateReadyState(_event) {\n",
       "        if (comm.kernel.ws) {\n",
       "            ws.readyState = comm.kernel.ws.readyState;\n",
       "        } else {\n",
       "            ws.readyState = 3; // Closed state.\n",
       "        }\n",
       "    }\n",
       "    comm.kernel.ws.addEventListener('open', updateReadyState);\n",
       "    comm.kernel.ws.addEventListener('close', updateReadyState);\n",
       "    comm.kernel.ws.addEventListener('error', updateReadyState);\n",
       "\n",
       "    ws.close = function () {\n",
       "        comm.close();\n",
       "    };\n",
       "    ws.send = function (m) {\n",
       "        //console.log('sending', m);\n",
       "        comm.send(m);\n",
       "    };\n",
       "    // Register the callback with on_msg.\n",
       "    comm.on_msg(function (msg) {\n",
       "        //console.log('receiving', msg['content']['data'], msg);\n",
       "        var data = msg['content']['data'];\n",
       "        if (data['blob'] !== undefined) {\n",
       "            data = {\n",
       "                data: new Blob(msg['buffers'], { type: data['blob'] }),\n",
       "            };\n",
       "        }\n",
       "        // Pass the mpl event to the overridden (by mpl) onmessage function.\n",
       "        ws.onmessage(data);\n",
       "    });\n",
       "    return ws;\n",
       "};\n",
       "\n",
       "mpl.mpl_figure_comm = function (comm, msg) {\n",
       "    // This is the function which gets called when the mpl process\n",
       "    // starts-up an IPython Comm through the \"matplotlib\" channel.\n",
       "\n",
       "    var id = msg.content.data.id;\n",
       "    // Get hold of the div created by the display call when the Comm\n",
       "    // socket was opened in Python.\n",
       "    var element = document.getElementById(id);\n",
       "    var ws_proxy = comm_websocket_adapter(comm);\n",
       "\n",
       "    function ondownload(figure, _format) {\n",
       "        window.open(figure.canvas.toDataURL());\n",
       "    }\n",
       "\n",
       "    var fig = new mpl.figure(id, ws_proxy, ondownload, element);\n",
       "\n",
       "    // Call onopen now - mpl needs it, as it is assuming we've passed it a real\n",
       "    // web socket which is closed, not our websocket->open comm proxy.\n",
       "    ws_proxy.onopen();\n",
       "\n",
       "    fig.parent_element = element;\n",
       "    fig.cell_info = mpl.find_output_cell(\"<div id='\" + id + \"'></div>\");\n",
       "    if (!fig.cell_info) {\n",
       "        console.error('Failed to find cell for figure', id, fig);\n",
       "        return;\n",
       "    }\n",
       "    fig.cell_info[0].output_area.element.on(\n",
       "        'cleared',\n",
       "        { fig: fig },\n",
       "        fig._remove_fig_handler\n",
       "    );\n",
       "};\n",
       "\n",
       "mpl.figure.prototype.handle_close = function (fig, msg) {\n",
       "    var width = fig.canvas.width / fig.ratio;\n",
       "    fig.cell_info[0].output_area.element.off(\n",
       "        'cleared',\n",
       "        fig._remove_fig_handler\n",
       "    );\n",
       "    fig.resizeObserverInstance.unobserve(fig.canvas_div);\n",
       "\n",
       "    // Update the output cell to use the data from the current canvas.\n",
       "    fig.push_to_output();\n",
       "    var dataURL = fig.canvas.toDataURL();\n",
       "    // Re-enable the keyboard manager in IPython - without this line, in FF,\n",
       "    // the notebook keyboard shortcuts fail.\n",
       "    IPython.keyboard_manager.enable();\n",
       "    fig.parent_element.innerHTML =\n",
       "        '<img src=\"' + dataURL + '\" width=\"' + width + '\">';\n",
       "    fig.close_ws(fig, msg);\n",
       "};\n",
       "\n",
       "mpl.figure.prototype.close_ws = function (fig, msg) {\n",
       "    fig.send_message('closing', msg);\n",
       "    // fig.ws.close()\n",
       "};\n",
       "\n",
       "mpl.figure.prototype.push_to_output = function (_remove_interactive) {\n",
       "    // Turn the data on the canvas into data in the output cell.\n",
       "    var width = this.canvas.width / this.ratio;\n",
       "    var dataURL = this.canvas.toDataURL();\n",
       "    this.cell_info[1]['text/html'] =\n",
       "        '<img src=\"' + dataURL + '\" width=\"' + width + '\">';\n",
       "};\n",
       "\n",
       "mpl.figure.prototype.updated_canvas_event = function () {\n",
       "    // Tell IPython that the notebook contents must change.\n",
       "    IPython.notebook.set_dirty(true);\n",
       "    this.send_message('ack', {});\n",
       "    var fig = this;\n",
       "    // Wait a second, then push the new image to the DOM so\n",
       "    // that it is saved nicely (might be nice to debounce this).\n",
       "    setTimeout(function () {\n",
       "        fig.push_to_output();\n",
       "    }, 1000);\n",
       "};\n",
       "\n",
       "mpl.figure.prototype._init_toolbar = function () {\n",
       "    var fig = this;\n",
       "\n",
       "    var toolbar = document.createElement('div');\n",
       "    toolbar.classList = 'btn-toolbar';\n",
       "    this.root.appendChild(toolbar);\n",
       "\n",
       "    function on_click_closure(name) {\n",
       "        return function (_event) {\n",
       "            return fig.toolbar_button_onclick(name);\n",
       "        };\n",
       "    }\n",
       "\n",
       "    function on_mouseover_closure(tooltip) {\n",
       "        return function (event) {\n",
       "            if (!event.currentTarget.disabled) {\n",
       "                return fig.toolbar_button_onmouseover(tooltip);\n",
       "            }\n",
       "        };\n",
       "    }\n",
       "\n",
       "    fig.buttons = {};\n",
       "    var buttonGroup = document.createElement('div');\n",
       "    buttonGroup.classList = 'btn-group';\n",
       "    var button;\n",
       "    for (var toolbar_ind in mpl.toolbar_items) {\n",
       "        var name = mpl.toolbar_items[toolbar_ind][0];\n",
       "        var tooltip = mpl.toolbar_items[toolbar_ind][1];\n",
       "        var image = mpl.toolbar_items[toolbar_ind][2];\n",
       "        var method_name = mpl.toolbar_items[toolbar_ind][3];\n",
       "\n",
       "        if (!name) {\n",
       "            /* Instead of a spacer, we start a new button group. */\n",
       "            if (buttonGroup.hasChildNodes()) {\n",
       "                toolbar.appendChild(buttonGroup);\n",
       "            }\n",
       "            buttonGroup = document.createElement('div');\n",
       "            buttonGroup.classList = 'btn-group';\n",
       "            continue;\n",
       "        }\n",
       "\n",
       "        button = fig.buttons[name] = document.createElement('button');\n",
       "        button.classList = 'btn btn-default';\n",
       "        button.href = '#';\n",
       "        button.title = name;\n",
       "        button.innerHTML = '<i class=\"fa ' + image + ' fa-lg\"></i>';\n",
       "        button.addEventListener('click', on_click_closure(method_name));\n",
       "        button.addEventListener('mouseover', on_mouseover_closure(tooltip));\n",
       "        buttonGroup.appendChild(button);\n",
       "    }\n",
       "\n",
       "    if (buttonGroup.hasChildNodes()) {\n",
       "        toolbar.appendChild(buttonGroup);\n",
       "    }\n",
       "\n",
       "    // Add the status bar.\n",
       "    var status_bar = document.createElement('span');\n",
       "    status_bar.classList = 'mpl-message pull-right';\n",
       "    toolbar.appendChild(status_bar);\n",
       "    this.message = status_bar;\n",
       "\n",
       "    // Add the close button to the window.\n",
       "    var buttongrp = document.createElement('div');\n",
       "    buttongrp.classList = 'btn-group inline pull-right';\n",
       "    button = document.createElement('button');\n",
       "    button.classList = 'btn btn-mini btn-primary';\n",
       "    button.href = '#';\n",
       "    button.title = 'Stop Interaction';\n",
       "    button.innerHTML = '<i class=\"fa fa-power-off icon-remove icon-large\"></i>';\n",
       "    button.addEventListener('click', function (_evt) {\n",
       "        fig.handle_close(fig, {});\n",
       "    });\n",
       "    button.addEventListener(\n",
       "        'mouseover',\n",
       "        on_mouseover_closure('Stop Interaction')\n",
       "    );\n",
       "    buttongrp.appendChild(button);\n",
       "    var titlebar = this.root.querySelector('.ui-dialog-titlebar');\n",
       "    titlebar.insertBefore(buttongrp, titlebar.firstChild);\n",
       "};\n",
       "\n",
       "mpl.figure.prototype._remove_fig_handler = function (event) {\n",
       "    var fig = event.data.fig;\n",
       "    if (event.target !== this) {\n",
       "        // Ignore bubbled events from children.\n",
       "        return;\n",
       "    }\n",
       "    fig.close_ws(fig, {});\n",
       "};\n",
       "\n",
       "mpl.figure.prototype._root_extra_style = function (el) {\n",
       "    el.style.boxSizing = 'content-box'; // override notebook setting of border-box.\n",
       "};\n",
       "\n",
       "mpl.figure.prototype._canvas_extra_style = function (el) {\n",
       "    // this is important to make the div 'focusable\n",
       "    el.setAttribute('tabindex', 0);\n",
       "    // reach out to IPython and tell the keyboard manager to turn it's self\n",
       "    // off when our div gets focus\n",
       "\n",
       "    // location in version 3\n",
       "    if (IPython.notebook.keyboard_manager) {\n",
       "        IPython.notebook.keyboard_manager.register_events(el);\n",
       "    } else {\n",
       "        // location in version 2\n",
       "        IPython.keyboard_manager.register_events(el);\n",
       "    }\n",
       "};\n",
       "\n",
       "mpl.figure.prototype._key_event_extra = function (event, _name) {\n",
       "    // Check for shift+enter\n",
       "    if (event.shiftKey && event.which === 13) {\n",
       "        this.canvas_div.blur();\n",
       "        // select the cell after this one\n",
       "        var index = IPython.notebook.find_cell_index(this.cell_info[0]);\n",
       "        IPython.notebook.select(index + 1);\n",
       "    }\n",
       "};\n",
       "\n",
       "mpl.figure.prototype.handle_save = function (fig, _msg) {\n",
       "    fig.ondownload(fig, null);\n",
       "};\n",
       "\n",
       "mpl.find_output_cell = function (html_output) {\n",
       "    // Return the cell and output element which can be found *uniquely* in the notebook.\n",
       "    // Note - this is a bit hacky, but it is done because the \"notebook_saving.Notebook\"\n",
       "    // IPython event is triggered only after the cells have been serialised, which for\n",
       "    // our purposes (turning an active figure into a static one), is too late.\n",
       "    var cells = IPython.notebook.get_cells();\n",
       "    var ncells = cells.length;\n",
       "    for (var i = 0; i < ncells; i++) {\n",
       "        var cell = cells[i];\n",
       "        if (cell.cell_type === 'code') {\n",
       "            for (var j = 0; j < cell.output_area.outputs.length; j++) {\n",
       "                var data = cell.output_area.outputs[j];\n",
       "                if (data.data) {\n",
       "                    // IPython >= 3 moved mimebundle to data attribute of output\n",
       "                    data = data.data;\n",
       "                }\n",
       "                if (data['text/html'] === html_output) {\n",
       "                    return [cell, data, j];\n",
       "                }\n",
       "            }\n",
       "        }\n",
       "    }\n",
       "};\n",
       "\n",
       "// Register the function which deals with the matplotlib target/channel.\n",
       "// The kernel may be null if the page has been refreshed.\n",
       "if (IPython.notebook.kernel !== null) {\n",
       "    IPython.notebook.kernel.comm_manager.register_target(\n",
       "        'matplotlib',\n",
       "        mpl.mpl_figure_comm\n",
       "    );\n",
       "}\n"
      ],
      "text/plain": [
       "<IPython.core.display.Javascript object>"
      ]
     },
     "metadata": {},
     "output_type": "display_data"
    },
    {
     "data": {
      "text/html": [
       "<img src=\"data:image/png;base64,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\" width=\"640\">"
      ],
      "text/plain": [
       "<IPython.core.display.HTML object>"
      ]
     },
     "metadata": {},
     "output_type": "display_data"
    },
    {
     "data": {
      "text/plain": [
       "(array([7.0000e+00, 6.0000e+00, 2.0000e+01, 6.5000e+01, 9.4000e+01,\n",
       "        1.4200e+02, 2.9400e+02, 5.2600e+02, 1.2510e+03, 1.8450e+03,\n",
       "        2.5780e+03, 4.0870e+03, 6.1890e+03, 9.6500e+03, 1.3745e+04,\n",
       "        1.8366e+04, 2.0310e+04, 2.0773e+04, 1.9382e+04, 1.8784e+04,\n",
       "        1.5915e+04, 1.1254e+04, 7.5250e+03, 4.9470e+03, 2.8290e+03,\n",
       "        1.4590e+03, 7.4800e+02, 2.2800e+02, 8.4000e+01, 3.9000e+01]),\n",
       " array([33.        , 35.03333333, 37.06666667, 39.1       , 41.13333333,\n",
       "        43.16666667, 45.2       , 47.23333333, 49.26666667, 51.3       ,\n",
       "        53.33333333, 55.36666667, 57.4       , 59.43333333, 61.46666667,\n",
       "        63.5       , 65.53333333, 67.56666667, 69.6       , 71.63333333,\n",
       "        73.66666667, 75.7       , 77.73333333, 79.76666667, 81.8       ,\n",
       "        83.83333333, 85.86666667, 87.9       , 89.93333333, 91.96666667,\n",
       "        94.        ]),\n",
       " <BarContainer object of 30 artists>)"
      ]
     },
     "execution_count": 11,
     "metadata": {},
     "output_type": "execute_result"
    }
   ],
   "source": [
    "plt.hist(target, 30, range=(33, 94))"
   ]
  },
  {
   "cell_type": "code",
   "execution_count": 12,
   "id": "31dd9d59",
   "metadata": {},
   "outputs": [],
   "source": [
    "y = target.fillna(target.mean())"
   ]
  },
  {
   "cell_type": "code",
   "execution_count": 13,
   "id": "77727ca0",
   "metadata": {},
   "outputs": [
    {
     "data": {
      "text/plain": [
       "False"
      ]
     },
     "execution_count": 13,
     "metadata": {},
     "output_type": "execute_result"
    }
   ],
   "source": [
    "y.isnull().values.any()"
   ]
  },
  {
   "cell_type": "code",
   "execution_count": 14,
   "id": "c60a7f5c",
   "metadata": {},
   "outputs": [
    {
     "data": {
      "text/plain": [
       "Index(['id', 'player_fifa_api_id', 'player_api_id', 'date', 'potential',\n",
       "       'preferred_foot', 'attacking_work_rate', 'defensive_work_rate',\n",
       "       'crossing', 'finishing', 'heading_accuracy', 'short_passing', 'volleys',\n",
       "       'dribbling', 'curve', 'free_kick_accuracy', 'long_passing',\n",
       "       'ball_control', 'acceleration', 'sprint_speed', 'agility', 'reactions',\n",
       "       'balance', 'shot_power', 'jumping', 'stamina', 'strength', 'long_shots',\n",
       "       'aggression', 'interceptions', 'positioning', 'vision', 'penalties',\n",
       "       'marking', 'standing_tackle', 'sliding_tackle', 'gk_diving',\n",
       "       'gk_handling', 'gk_kicking', 'gk_positioning', 'gk_reflexes'],\n",
       "      dtype='object')"
      ]
     },
     "execution_count": 14,
     "metadata": {},
     "output_type": "execute_result"
    }
   ],
   "source": [
    "df.columns"
   ]
  },
  {
   "cell_type": "code",
   "execution_count": 15,
   "id": "69b3f709",
   "metadata": {},
   "outputs": [
    {
     "name": "stdout",
     "output_type": "stream",
     "text": [
      "id--> 183978..int64\n",
      "player_fifa_api_id--> 11062..int64\n",
      "player_api_id--> 11060..int64\n",
      "date--> 197..object\n",
      "potential--> 57..float64\n",
      "preferred_foot--> 3..object\n",
      "attacking_work_rate--> 9..object\n",
      "defensive_work_rate--> 20..object\n",
      "crossing--> 96..float64\n",
      "finishing--> 98..float64\n",
      "heading_accuracy--> 97..float64\n",
      "short_passing--> 96..float64\n",
      "volleys--> 94..float64\n",
      "dribbling--> 98..float64\n",
      "curve--> 93..float64\n",
      "free_kick_accuracy--> 98..float64\n",
      "long_passing--> 96..float64\n",
      "ball_control--> 94..float64\n",
      "acceleration--> 87..float64\n",
      "sprint_speed--> 86..float64\n",
      "agility--> 82..float64\n",
      "reactions--> 79..float64\n",
      "balance--> 82..float64\n",
      "shot_power--> 97..float64\n",
      "jumping--> 80..float64\n",
      "stamina--> 85..float64\n",
      "strength--> 83..float64\n",
      "long_shots--> 97..float64\n",
      "aggression--> 92..float64\n",
      "interceptions--> 97..float64\n",
      "positioning--> 96..float64\n",
      "vision--> 98..float64\n",
      "penalties--> 95..float64\n",
      "marking--> 96..float64\n",
      "standing_tackle--> 96..float64\n",
      "sliding_tackle--> 95..float64\n",
      "gk_diving--> 94..float64\n",
      "gk_handling--> 91..float64\n",
      "gk_kicking--> 98..float64\n",
      "gk_positioning--> 95..float64\n",
      "gk_reflexes--> 93..float64\n"
     ]
    }
   ],
   "source": [
    "for col in df.columns:\n",
    "    unique_cat = len(df[col].unique())\n",
    "    print(\"{col}--> {unique_cat}..{typ}\".format(col=col, unique_cat=unique_cat, typ=df[col].dtype))"
   ]
  },
  {
   "cell_type": "code",
   "execution_count": 16,
   "id": "ee41cb7b",
   "metadata": {},
   "outputs": [
    {
     "data": {
      "text/html": [
       "<div>\n",
       "<style scoped>\n",
       "    .dataframe tbody tr th:only-of-type {\n",
       "        vertical-align: middle;\n",
       "    }\n",
       "\n",
       "    .dataframe tbody tr th {\n",
       "        vertical-align: top;\n",
       "    }\n",
       "\n",
       "    .dataframe thead th {\n",
       "        text-align: right;\n",
       "    }\n",
       "</style>\n",
       "<table border=\"1\" class=\"dataframe\">\n",
       "  <thead>\n",
       "    <tr style=\"text-align: right;\">\n",
       "      <th></th>\n",
       "      <th>id</th>\n",
       "      <th>player_fifa_api_id</th>\n",
       "      <th>player_api_id</th>\n",
       "      <th>date</th>\n",
       "      <th>potential</th>\n",
       "      <th>crossing</th>\n",
       "      <th>finishing</th>\n",
       "      <th>heading_accuracy</th>\n",
       "      <th>short_passing</th>\n",
       "      <th>volleys</th>\n",
       "      <th>...</th>\n",
       "      <th>defensive_work_rate_9</th>\n",
       "      <th>defensive_work_rate__0</th>\n",
       "      <th>defensive_work_rate_ean</th>\n",
       "      <th>defensive_work_rate_es</th>\n",
       "      <th>defensive_work_rate_high</th>\n",
       "      <th>defensive_work_rate_low</th>\n",
       "      <th>defensive_work_rate_medium</th>\n",
       "      <th>defensive_work_rate_o</th>\n",
       "      <th>defensive_work_rate_ormal</th>\n",
       "      <th>defensive_work_rate_tocky</th>\n",
       "    </tr>\n",
       "  </thead>\n",
       "  <tbody>\n",
       "    <tr>\n",
       "      <th>0</th>\n",
       "      <td>1</td>\n",
       "      <td>218353</td>\n",
       "      <td>505942</td>\n",
       "      <td>2016-02-18 00:00:00</td>\n",
       "      <td>71.0</td>\n",
       "      <td>49.0</td>\n",
       "      <td>44.0</td>\n",
       "      <td>71.0</td>\n",
       "      <td>61.0</td>\n",
       "      <td>44.0</td>\n",
       "      <td>...</td>\n",
       "      <td>0</td>\n",
       "      <td>0</td>\n",
       "      <td>0</td>\n",
       "      <td>0</td>\n",
       "      <td>0</td>\n",
       "      <td>0</td>\n",
       "      <td>1</td>\n",
       "      <td>0</td>\n",
       "      <td>0</td>\n",
       "      <td>0</td>\n",
       "    </tr>\n",
       "    <tr>\n",
       "      <th>1</th>\n",
       "      <td>2</td>\n",
       "      <td>218353</td>\n",
       "      <td>505942</td>\n",
       "      <td>2015-11-19 00:00:00</td>\n",
       "      <td>71.0</td>\n",
       "      <td>49.0</td>\n",
       "      <td>44.0</td>\n",
       "      <td>71.0</td>\n",
       "      <td>61.0</td>\n",
       "      <td>44.0</td>\n",
       "      <td>...</td>\n",
       "      <td>0</td>\n",
       "      <td>0</td>\n",
       "      <td>0</td>\n",
       "      <td>0</td>\n",
       "      <td>0</td>\n",
       "      <td>0</td>\n",
       "      <td>1</td>\n",
       "      <td>0</td>\n",
       "      <td>0</td>\n",
       "      <td>0</td>\n",
       "    </tr>\n",
       "    <tr>\n",
       "      <th>2</th>\n",
       "      <td>3</td>\n",
       "      <td>218353</td>\n",
       "      <td>505942</td>\n",
       "      <td>2015-09-21 00:00:00</td>\n",
       "      <td>66.0</td>\n",
       "      <td>49.0</td>\n",
       "      <td>44.0</td>\n",
       "      <td>71.0</td>\n",
       "      <td>61.0</td>\n",
       "      <td>44.0</td>\n",
       "      <td>...</td>\n",
       "      <td>0</td>\n",
       "      <td>0</td>\n",
       "      <td>0</td>\n",
       "      <td>0</td>\n",
       "      <td>0</td>\n",
       "      <td>0</td>\n",
       "      <td>1</td>\n",
       "      <td>0</td>\n",
       "      <td>0</td>\n",
       "      <td>0</td>\n",
       "    </tr>\n",
       "    <tr>\n",
       "      <th>3</th>\n",
       "      <td>4</td>\n",
       "      <td>218353</td>\n",
       "      <td>505942</td>\n",
       "      <td>2015-03-20 00:00:00</td>\n",
       "      <td>65.0</td>\n",
       "      <td>48.0</td>\n",
       "      <td>43.0</td>\n",
       "      <td>70.0</td>\n",
       "      <td>60.0</td>\n",
       "      <td>43.0</td>\n",
       "      <td>...</td>\n",
       "      <td>0</td>\n",
       "      <td>0</td>\n",
       "      <td>0</td>\n",
       "      <td>0</td>\n",
       "      <td>0</td>\n",
       "      <td>0</td>\n",
       "      <td>1</td>\n",
       "      <td>0</td>\n",
       "      <td>0</td>\n",
       "      <td>0</td>\n",
       "    </tr>\n",
       "    <tr>\n",
       "      <th>4</th>\n",
       "      <td>5</td>\n",
       "      <td>218353</td>\n",
       "      <td>505942</td>\n",
       "      <td>2007-02-22 00:00:00</td>\n",
       "      <td>65.0</td>\n",
       "      <td>48.0</td>\n",
       "      <td>43.0</td>\n",
       "      <td>70.0</td>\n",
       "      <td>60.0</td>\n",
       "      <td>43.0</td>\n",
       "      <td>...</td>\n",
       "      <td>0</td>\n",
       "      <td>0</td>\n",
       "      <td>0</td>\n",
       "      <td>0</td>\n",
       "      <td>0</td>\n",
       "      <td>0</td>\n",
       "      <td>1</td>\n",
       "      <td>0</td>\n",
       "      <td>0</td>\n",
       "      <td>0</td>\n",
       "    </tr>\n",
       "  </tbody>\n",
       "</table>\n",
       "<p>5 rows × 67 columns</p>\n",
       "</div>"
      ],
      "text/plain": [
       "   id  player_fifa_api_id  player_api_id                 date  potential  \\\n",
       "0   1              218353         505942  2016-02-18 00:00:00       71.0   \n",
       "1   2              218353         505942  2015-11-19 00:00:00       71.0   \n",
       "2   3              218353         505942  2015-09-21 00:00:00       66.0   \n",
       "3   4              218353         505942  2015-03-20 00:00:00       65.0   \n",
       "4   5              218353         505942  2007-02-22 00:00:00       65.0   \n",
       "\n",
       "   crossing  finishing  heading_accuracy  short_passing  volleys  ...  \\\n",
       "0      49.0       44.0              71.0           61.0     44.0  ...   \n",
       "1      49.0       44.0              71.0           61.0     44.0  ...   \n",
       "2      49.0       44.0              71.0           61.0     44.0  ...   \n",
       "3      48.0       43.0              70.0           60.0     43.0  ...   \n",
       "4      48.0       43.0              70.0           60.0     43.0  ...   \n",
       "\n",
       "   defensive_work_rate_9  defensive_work_rate__0  defensive_work_rate_ean  \\\n",
       "0                      0                       0                        0   \n",
       "1                      0                       0                        0   \n",
       "2                      0                       0                        0   \n",
       "3                      0                       0                        0   \n",
       "4                      0                       0                        0   \n",
       "\n",
       "   defensive_work_rate_es  defensive_work_rate_high  defensive_work_rate_low  \\\n",
       "0                       0                         0                        0   \n",
       "1                       0                         0                        0   \n",
       "2                       0                         0                        0   \n",
       "3                       0                         0                        0   \n",
       "4                       0                         0                        0   \n",
       "\n",
       "   defensive_work_rate_medium  defensive_work_rate_o  \\\n",
       "0                           1                      0   \n",
       "1                           1                      0   \n",
       "2                           1                      0   \n",
       "3                           1                      0   \n",
       "4                           1                      0   \n",
       "\n",
       "   defensive_work_rate_ormal  defensive_work_rate_tocky  \n",
       "0                          0                          0  \n",
       "1                          0                          0  \n",
       "2                          0                          0  \n",
       "3                          0                          0  \n",
       "4                          0                          0  \n",
       "\n",
       "[5 rows x 67 columns]"
      ]
     },
     "execution_count": 16,
     "metadata": {},
     "output_type": "execute_result"
    }
   ],
   "source": [
    "# Categorical to numerical in certain columns\n",
    "\n",
    "dummy_df = pd.get_dummies(df, columns=['preferred_foot', 'attacking_work_rate', 'defensive_work_rate'])\n",
    "dummy_df.head()"
   ]
  },
  {
   "cell_type": "code",
   "execution_count": 17,
   "id": "996f8b5b",
   "metadata": {},
   "outputs": [],
   "source": [
    "X = dummy_df.drop(['id', 'date'], axis=1)"
   ]
  },
  {
   "cell_type": "code",
   "execution_count": 18,
   "id": "d2aa35b0",
   "metadata": {},
   "outputs": [],
   "source": [
    "X_train, X_test, y_train, y_test = train_test_split(X, y, test_size=0.2, random_state=42)"
   ]
  },
  {
   "cell_type": "code",
   "execution_count": 19,
   "id": "def8da54",
   "metadata": {},
   "outputs": [],
   "source": [
    "# Imputing null value of each column with the mean of that column\n",
    "imput = SimpleImputer()\n",
    "X_train = imput.fit_transform(X_train)\n",
    "X_test = imput.fit_transform(X_test)"
   ]
  },
  {
   "cell_type": "code",
   "execution_count": 20,
   "id": "cf141ba9",
   "metadata": {},
   "outputs": [
    {
     "name": "stdout",
     "output_type": "stream",
     "text": [
      "[8.29926878e-03 8.76651891e-03 1.38380304e-01 1.50917601e-02\n",
      " 8.96754395e-03 2.65084952e-02 2.32148431e-02 2.11464916e-03\n",
      " 1.21002207e-02 1.15588342e-03 9.07089794e-04 3.46187875e-03\n",
      " 6.23258986e-02 3.50267859e-03 5.06886467e-03 1.57388602e-03\n",
      " 3.40392470e-01 1.12021936e-03 2.63976529e-02 2.09015817e-03\n",
      " 5.34649426e-03 1.99538041e-02 2.90801725e-03 3.63725610e-03\n",
      " 1.08029805e-02 1.59304906e-02 2.15862039e-03 1.20606134e-03\n",
      " 2.70922109e-02 4.80036177e-02 5.21030976e-03 3.61375287e-02\n",
      " 2.63463128e-02 4.56153648e-03 5.31641878e-02 2.52356995e-02\n",
      " 6.61703874e-04 8.43935588e-04 7.67433201e-04 5.43107337e-04\n",
      " 1.34665193e-03 0.00000000e+00 9.30955226e-04 2.22283276e-03\n",
      " 7.73709558e-04 4.00525896e-04 3.51874187e-04 9.13819880e-04\n",
      " 0.00000000e+00 1.48726173e-03 7.02726829e-04 8.02693132e-04\n",
      " 1.85659854e-03 0.00000000e+00 3.65989370e-04 0.00000000e+00\n",
      " 7.54972512e-04 0.00000000e+00 0.00000000e+00 1.71019183e-03\n",
      " 3.09791096e-04 9.43273713e-04 2.17451388e-03 0.00000000e+00\n",
      " 0.00000000e+00]\n"
     ]
    }
   ],
   "source": [
    "# Finding feature_importance for feature selection. from it we'll be able to decide threshold value\n",
    "model = XGBRegressor()\n",
    "model.fit(X_train, y_train)\n",
    "print(model.feature_importances_)"
   ]
  },
  {
   "cell_type": "code",
   "execution_count": 21,
   "id": "f9c8005f",
   "metadata": {},
   "outputs": [
    {
     "data": {
      "text/plain": [
       "(147182, 17)"
      ]
     },
     "execution_count": 21,
     "metadata": {},
     "output_type": "execute_result"
    }
   ],
   "source": [
    "selection = SelectFromModel(model, threshold=0.01, prefit=True)\n",
    "\n",
    "select_X_train = selection.transform(X_train)\n",
    "select_X_test = selection.transform(X_test)\n",
    "select_X_train.shape"
   ]
  },
  {
   "cell_type": "code",
   "execution_count": 22,
   "id": "adfb137a",
   "metadata": {},
   "outputs": [
    {
     "data": {
      "text/plain": [
       "array([[ 0.0816175 ,  0.22586867, -0.20056302, ..., -0.50890987,\n",
       "        -0.19438894, -0.25857333],\n",
       "       [-0.67880702,  0.51645163, -0.38289661, ..., -0.19268855,\n",
       "        -0.13201962, -0.49209458],\n",
       "       [ 0.68995711, -0.87834656,  1.50121723, ...,  0.31326556,\n",
       "         0.30456557,  0.2668495 ],\n",
       "       ...,\n",
       "       [ 1.29829672,  1.3300839 ,  0.71110497, ...,  0.31326556,\n",
       "         0.30456557,  0.2668495 ],\n",
       "       [ 0.99412691, -0.70399679,  0.28565991, ...,  0.37650982,\n",
       "         0.36693488,  0.32522981],\n",
       "       [ 1.75455142, -0.70399679,  1.44043936, ..., -0.69864265,\n",
       "        -0.5062355 , -0.25857333]])"
      ]
     },
     "execution_count": 22,
     "metadata": {},
     "output_type": "execute_result"
    }
   ],
   "source": [
    "scalar = StandardScaler()\n",
    "x_scaled_train = scalar.fit_transform(select_X_train)\n",
    "x_scaled_train"
   ]
  },
  {
   "cell_type": "code",
   "execution_count": 23,
   "id": "8d742647",
   "metadata": {},
   "outputs": [
    {
     "data": {
      "text/plain": [
       "array([[ 1.14675836,  0.69935521, -1.95409067, ..., -0.69967421,\n",
       "        -0.19741836, -0.08627724],\n",
       "       [-0.21994858,  0.46661796, -0.19038391, ..., -0.63681659,\n",
       "        -0.19741836, -0.20203077],\n",
       "       [-0.52366123,  0.75753953,  0.05288599, ..., -0.51110136,\n",
       "        -0.01197896, -0.37566105],\n",
       "       ...,\n",
       "       [-1.73851184,  0.46661796, -0.55528876, ...,  0.24319002,\n",
       "         0.23527357,  0.20310657],\n",
       "       [-0.97923021,  0.23388071,  0.23533841, ..., -0.38538613,\n",
       "        -0.38285776, -0.25990753],\n",
       "       [ 1.90603999,  0.40843365,  0.9651481 , ..., -0.57395898,\n",
       "        -0.0737921 , -0.37566105]])"
      ]
     },
     "execution_count": 23,
     "metadata": {},
     "output_type": "execute_result"
    }
   ],
   "source": [
    "x_scaled_test = scalar.fit_transform(select_X_test)\n",
    "x_scaled_test"
   ]
  },
  {
   "cell_type": "code",
   "execution_count": 24,
   "id": "69af8551",
   "metadata": {},
   "outputs": [
    {
     "data": {
      "text/plain": [
       "LinearRegression()"
      ]
     },
     "execution_count": 24,
     "metadata": {},
     "output_type": "execute_result"
    }
   ],
   "source": [
    "# Linear Regression\n",
    "\n",
    "linear_reg = LinearRegression()\n",
    "linear_reg.fit(x_scaled_train, y_train)"
   ]
  },
  {
   "cell_type": "code",
   "execution_count": 25,
   "id": "6a37b6ee",
   "metadata": {},
   "outputs": [
    {
     "data": {
      "text/plain": [
       "0.8337959255632099"
      ]
     },
     "execution_count": 25,
     "metadata": {},
     "output_type": "execute_result"
    }
   ],
   "source": [
    "linear_reg.score(x_scaled_test, y_test)"
   ]
  },
  {
   "cell_type": "code",
   "execution_count": 26,
   "id": "e54ef695",
   "metadata": {},
   "outputs": [],
   "source": [
    "cv = ShuffleSplit(random_state=42)   \n",
    "\n",
    "param_grid = {'n_jobs': [-1]}    \n",
    "grid = GridSearchCV(linear_reg, param_grid=param_grid, cv=cv)"
   ]
  },
  {
   "cell_type": "code",
   "execution_count": 27,
   "id": "c0351fb7",
   "metadata": {},
   "outputs": [
    {
     "data": {
      "text/plain": [
       "GridSearchCV(cv=ShuffleSplit(n_splits=10, random_state=42, test_size=None, train_size=None),\n",
       "             estimator=LinearRegression(), param_grid={'n_jobs': [-1]})"
      ]
     },
     "execution_count": 27,
     "metadata": {},
     "output_type": "execute_result"
    }
   ],
   "source": [
    "grid.fit(select_X_train, y_train) "
   ]
  },
  {
   "cell_type": "code",
   "execution_count": 28,
   "id": "cc573a14",
   "metadata": {},
   "outputs": [
    {
     "data": {
      "text/plain": [
       "{'n_jobs': -1}"
      ]
     },
     "execution_count": 28,
     "metadata": {},
     "output_type": "execute_result"
    }
   ],
   "source": [
    "grid.best_params_"
   ]
  },
  {
   "cell_type": "code",
   "execution_count": 29,
   "id": "a5b1b0b9",
   "metadata": {},
   "outputs": [
    {
     "data": {
      "text/plain": [
       "LinearRegression(n_jobs=-1)"
      ]
     },
     "execution_count": 29,
     "metadata": {},
     "output_type": "execute_result"
    }
   ],
   "source": [
    "grid.best_estimator_"
   ]
  },
  {
   "cell_type": "code",
   "execution_count": 31,
   "id": "14c85d7a",
   "metadata": {},
   "outputs": [
    {
     "data": {
      "text/plain": [
       "LinearRegression(n_jobs=-1)"
      ]
     },
     "execution_count": 31,
     "metadata": {},
     "output_type": "execute_result"
    }
   ],
   "source": [
    "new_linear_reg = LinearRegression(n_jobs=-1)\n",
    "new_linear_reg.fit(x_scaled_train, y_train)"
   ]
  },
  {
   "cell_type": "code",
   "execution_count": 32,
   "id": "694b03cc",
   "metadata": {},
   "outputs": [
    {
     "data": {
      "text/plain": [
       "0.8337959255632099"
      ]
     },
     "execution_count": 32,
     "metadata": {},
     "output_type": "execute_result"
    }
   ],
   "source": [
    "new_linear_reg.score(x_scaled_test, y_test)"
   ]
  },
  {
   "cell_type": "code",
   "execution_count": 33,
   "id": "286f19ac",
   "metadata": {},
   "outputs": [
    {
     "data": {
      "text/plain": [
       "DecisionTreeRegressor(random_state=42)"
      ]
     },
     "execution_count": 33,
     "metadata": {},
     "output_type": "execute_result"
    }
   ],
   "source": [
    "# Decision Tree\n",
    "\n",
    "decision_tree = DecisionTreeRegressor(criterion='squared_error', random_state=42)       \n",
    "decision_tree.fit(x_scaled_train, y_train)"
   ]
  },
  {
   "cell_type": "code",
   "execution_count": 34,
   "id": "f8fd73c1",
   "metadata": {},
   "outputs": [],
   "source": [
    "cv = ShuffleSplit(n_splits=10, random_state=42)        \n",
    "param_grid = {'max_depth': [3, 5, 7, 9, 13],\n",
    "             'criterion': ['squared_error', 'friedman_mse']}\n",
    "\n",
    "grid = GridSearchCV(decision_tree, param_grid=param_grid, cv=cv)"
   ]
  },
  {
   "cell_type": "code",
   "execution_count": 35,
   "id": "5b3c8888",
   "metadata": {},
   "outputs": [
    {
     "data": {
      "text/plain": [
       "GridSearchCV(cv=ShuffleSplit(n_splits=10, random_state=42, test_size=None, train_size=None),\n",
       "             estimator=DecisionTreeRegressor(random_state=42),\n",
       "             param_grid={'criterion': ['squared_error', 'friedman_mse'],\n",
       "                         'max_depth': [3, 5, 7, 9, 13]})"
      ]
     },
     "execution_count": 35,
     "metadata": {},
     "output_type": "execute_result"
    }
   ],
   "source": [
    "grid.fit(select_X_train, y_train)"
   ]
  },
  {
   "cell_type": "code",
   "execution_count": 36,
   "id": "3e7bc974",
   "metadata": {},
   "outputs": [
    {
     "data": {
      "text/plain": [
       "{'criterion': 'friedman_mse', 'max_depth': 13}"
      ]
     },
     "execution_count": 36,
     "metadata": {},
     "output_type": "execute_result"
    }
   ],
   "source": [
    "grid.best_params_"
   ]
  },
  {
   "cell_type": "code",
   "execution_count": 37,
   "id": "a4313360",
   "metadata": {},
   "outputs": [
    {
     "data": {
      "text/plain": [
       "DecisionTreeRegressor(criterion='friedman_mse', max_depth=13, random_state=42)"
      ]
     },
     "execution_count": 37,
     "metadata": {},
     "output_type": "execute_result"
    }
   ],
   "source": [
    "grid.best_estimator_"
   ]
  },
  {
   "cell_type": "code",
   "execution_count": 38,
   "id": "3ffe049c",
   "metadata": {},
   "outputs": [
    {
     "data": {
      "text/plain": [
       "DecisionTreeRegressor(criterion='friedman_mse', max_depth=13, random_state=42)"
      ]
     },
     "execution_count": 38,
     "metadata": {},
     "output_type": "execute_result"
    }
   ],
   "source": [
    "new_dtree = DecisionTreeRegressor(criterion='friedman_mse', max_depth=13,random_state=42)\n",
    "new_dtree.fit(x_scaled_train, y_train)"
   ]
  },
  {
   "cell_type": "code",
   "execution_count": 39,
   "id": "3c1ac0f4",
   "metadata": {},
   "outputs": [
    {
     "data": {
      "text/plain": [
       "0.9304462965593071"
      ]
     },
     "execution_count": 39,
     "metadata": {},
     "output_type": "execute_result"
    }
   ],
   "source": [
    "new_dtree.score(x_scaled_test, y_test)"
   ]
  },
  {
   "cell_type": "code",
   "execution_count": 40,
   "id": "5f78cf3c",
   "metadata": {},
   "outputs": [
    {
     "data": {
      "text/plain": [
       "RandomForestRegressor(random_state=42)"
      ]
     },
     "execution_count": 40,
     "metadata": {},
     "output_type": "execute_result"
    }
   ],
   "source": [
    "# Random Forest Regressor \n",
    "\n",
    "random_forest = RandomForestRegressor(random_state=42)\n",
    "random_forest.fit(x_scaled_train, y_train)"
   ]
  },
  {
   "cell_type": "code",
   "execution_count": 41,
   "id": "85cd90dc",
   "metadata": {},
   "outputs": [
    {
     "data": {
      "text/plain": [
       "0.9801078869711486"
      ]
     },
     "execution_count": 41,
     "metadata": {},
     "output_type": "execute_result"
    }
   ],
   "source": [
    "random_forest.score(x_scaled_test, y_test)"
   ]
  },
  {
   "cell_type": "code",
   "execution_count": 43,
   "id": "13f320f6",
   "metadata": {},
   "outputs": [],
   "source": [
    "cv = ShuffleSplit(test_size=0.2, random_state=42)\n",
    "\n",
    "param_grid = {'max_features':['sqrt', 'log2', 10],\n",
    "              'max_depth':[9, 11, 13]}                 \n",
    "\n",
    "grid = GridSearchCV(random_forest, param_grid=param_grid, cv=cv)"
   ]
  },
  {
   "cell_type": "code",
   "execution_count": 44,
   "id": "85c48b24",
   "metadata": {},
   "outputs": [
    {
     "data": {
      "text/plain": [
       "GridSearchCV(cv=ShuffleSplit(n_splits=10, random_state=42, test_size=0.2, train_size=None),\n",
       "             estimator=RandomForestRegressor(random_state=42),\n",
       "             param_grid={'max_depth': [9, 11, 13],\n",
       "                         'max_features': ['sqrt', 'log2', 10]})"
      ]
     },
     "execution_count": 44,
     "metadata": {},
     "output_type": "execute_result"
    }
   ],
   "source": [
    "grid.fit(x_scaled_train, y_train) "
   ]
  },
  {
   "cell_type": "code",
   "execution_count": 45,
   "id": "ae78bb76",
   "metadata": {},
   "outputs": [
    {
     "data": {
      "text/plain": [
       "RandomForestRegressor(max_depth=13, max_features='sqrt', random_state=42)"
      ]
     },
     "execution_count": 45,
     "metadata": {},
     "output_type": "execute_result"
    }
   ],
   "source": [
    "grid.best_estimator_"
   ]
  },
  {
   "cell_type": "code",
   "execution_count": 46,
   "id": "e88a7a0a",
   "metadata": {},
   "outputs": [
    {
     "data": {
      "text/plain": [
       "RandomForestRegressor(max_depth=13, max_features='sqrt', random_state=42)"
      ]
     },
     "execution_count": 46,
     "metadata": {},
     "output_type": "execute_result"
    }
   ],
   "source": [
    "new_random_forest = RandomForestRegressor(max_depth=13, max_features='sqrt', random_state=42)\n",
    "new_random_forest.fit(x_scaled_train, y_train)"
   ]
  },
  {
   "cell_type": "code",
   "execution_count": 47,
   "id": "1b31788c",
   "metadata": {},
   "outputs": [
    {
     "data": {
      "text/plain": [
       "0.9586349571457373"
      ]
     },
     "execution_count": 47,
     "metadata": {},
     "output_type": "execute_result"
    }
   ],
   "source": [
    "new_random_forest.score(x_scaled_test, y_test)"
   ]
  },
  {
   "cell_type": "code",
   "execution_count": 48,
   "id": "97db8103",
   "metadata": {},
   "outputs": [
    {
     "data": {
      "text/plain": [
       "XGBRegressor(base_score=0.5, booster='gbtree', colsample_bylevel=1,\n",
       "             colsample_bynode=1, colsample_bytree=1, gamma=0, gpu_id=-1,\n",
       "             importance_type='gain', interaction_constraints='',\n",
       "             learning_rate=0.300000012, max_delta_step=0, max_depth=6,\n",
       "             min_child_weight=1, missing=nan, monotone_constraints='()',\n",
       "             n_estimators=100, n_jobs=8, num_parallel_tree=1, random_state=42,\n",
       "             reg_alpha=0, reg_lambda=1, scale_pos_weight=1, subsample=1,\n",
       "             tree_method='exact', validate_parameters=1, verbosity=None)"
      ]
     },
     "execution_count": 48,
     "metadata": {},
     "output_type": "execute_result"
    }
   ],
   "source": [
    "# XGBOOST Regressor\n",
    "\n",
    "xgr = XGBRegressor(random_state=42)\n",
    "xgr.fit(x_scaled_train, y_train)"
   ]
  },
  {
   "cell_type": "code",
   "execution_count": 49,
   "id": "12ccf8ab",
   "metadata": {},
   "outputs": [
    {
     "name": "stderr",
     "output_type": "stream",
     "text": [
      "C:\\Users\\amits\\anaconda3\\lib\\site-packages\\xgboost\\data.py:112: UserWarning: Use subset (sliced data) of np.ndarray is not recommended because it will generate extra copies and increase memory consumption\n",
      "  warnings.warn(\n"
     ]
    },
    {
     "data": {
      "text/plain": [
       "0.9599715534960364"
      ]
     },
     "execution_count": 49,
     "metadata": {},
     "output_type": "execute_result"
    }
   ],
   "source": [
    "xgr.score(x_scaled_test, y_test)"
   ]
  },
  {
   "cell_type": "code",
   "execution_count": 50,
   "id": "1d51779d",
   "metadata": {},
   "outputs": [],
   "source": [
    "cv = ShuffleSplit(n_splits=10, random_state=0)\n",
    "\n",
    "param_grid = {'max_depth': [5, 7],\n",
    "              'learning_rate': [0.1, 0.3]}\n",
    "\n",
    "grid = GridSearchCV(xgr, param_grid=param_grid, cv=cv, n_jobs= -1)"
   ]
  },
  {
   "cell_type": "code",
   "execution_count": 51,
   "id": "a493d742",
   "metadata": {},
   "outputs": [
    {
     "data": {
      "text/plain": [
       "GridSearchCV(cv=ShuffleSplit(n_splits=10, random_state=0, test_size=None, train_size=None),\n",
       "             estimator=XGBRegressor(base_score=0.5, booster='gbtree',\n",
       "                                    colsample_bylevel=1, colsample_bynode=1,\n",
       "                                    colsample_bytree=1, gamma=0, gpu_id=-1,\n",
       "                                    importance_type='gain',\n",
       "                                    interaction_constraints='',\n",
       "                                    learning_rate=0.300000012, max_delta_step=0,\n",
       "                                    max_depth=6, min_child_weight=1,\n",
       "                                    missing=nan, monotone_constraints='()',\n",
       "                                    n_estimators=100, n_jobs=8,\n",
       "                                    num_parallel_tree=1, random_state=42,\n",
       "                                    reg_alpha=0, reg_lambda=1,\n",
       "                                    scale_pos_weight=1, subsample=1,\n",
       "                                    tree_method='exact', validate_parameters=1,\n",
       "                                    verbosity=None),\n",
       "             n_jobs=-1,\n",
       "             param_grid={'learning_rate': [0.1, 0.3], 'max_depth': [5, 7]})"
      ]
     },
     "execution_count": 51,
     "metadata": {},
     "output_type": "execute_result"
    }
   ],
   "source": [
    "grid.fit(x_scaled_train, y_train)"
   ]
  },
  {
   "cell_type": "code",
   "execution_count": 52,
   "id": "b4714d65",
   "metadata": {},
   "outputs": [
    {
     "data": {
      "text/plain": [
       "XGBRegressor(base_score=0.5, booster='gbtree', colsample_bylevel=1,\n",
       "             colsample_bynode=1, colsample_bytree=1, gamma=0, gpu_id=-1,\n",
       "             importance_type='gain', interaction_constraints='',\n",
       "             learning_rate=0.3, max_delta_step=0, max_depth=7,\n",
       "             min_child_weight=1, missing=nan, monotone_constraints='()',\n",
       "             n_estimators=100, n_jobs=8, num_parallel_tree=1, random_state=42,\n",
       "             reg_alpha=0, reg_lambda=1, scale_pos_weight=1, subsample=1,\n",
       "             tree_method='exact', validate_parameters=1, verbosity=None)"
      ]
     },
     "execution_count": 52,
     "metadata": {},
     "output_type": "execute_result"
    }
   ],
   "source": [
    "grid.best_estimator_"
   ]
  },
  {
   "cell_type": "code",
   "execution_count": 54,
   "id": "e0e07caf",
   "metadata": {},
   "outputs": [
    {
     "data": {
      "text/plain": [
       "XGBRegressor(base_score=0.5, booster='gbtree', colsample_bylevel=1,\n",
       "             colsample_bynode=1, colsample_bytree=1, gamma=0, gpu_id=-1,\n",
       "             importance_type='gain', interaction_constraints='',\n",
       "             learning_rate=0.3, max_delta_step=0, max_depth=7,\n",
       "             min_child_weight=1, missing=nan, monotone_constraints='()',\n",
       "             n_estimators=100, n_jobs=8, num_parallel_tree=1, random_state=42,\n",
       "             reg_alpha=0, reg_lambda=1, scale_pos_weight=1, subsample=1,\n",
       "             tree_method='exact', validate_parameters=1, verbosity=None)"
      ]
     },
     "execution_count": 54,
     "metadata": {},
     "output_type": "execute_result"
    }
   ],
   "source": [
    "new_xgr = XGBRegressor(base_score=0.5, booster='gbtree', colsample_bylevel=1,\n",
    "             colsample_bynode=1, colsample_bytree=1, gamma=0, gpu_id=-1,\n",
    "             importance_type='gain', interaction_constraints='',\n",
    "             learning_rate=0.3, max_delta_step=0, max_depth=7,\n",
    "             min_child_weight=1, missing=np.nan, monotone_constraints='()',\n",
    "             n_estimators=100, n_jobs=8, num_parallel_tree=1, random_state=42,\n",
    "             reg_alpha=0, reg_lambda=1, scale_pos_weight=1, subsample=1,\n",
    "             tree_method='exact', validate_parameters=1, verbosity=None)\n",
    "new_xgr.fit(x_scaled_train, y_train)"
   ]
  },
  {
   "cell_type": "code",
   "execution_count": 55,
   "id": "9e93eb98",
   "metadata": {},
   "outputs": [
    {
     "name": "stderr",
     "output_type": "stream",
     "text": [
      "C:\\Users\\amits\\anaconda3\\lib\\site-packages\\xgboost\\data.py:112: UserWarning: Use subset (sliced data) of np.ndarray is not recommended because it will generate extra copies and increase memory consumption\n",
      "  warnings.warn(\n"
     ]
    },
    {
     "data": {
      "text/plain": [
       "0.9642417265601259"
      ]
     },
     "execution_count": 55,
     "metadata": {},
     "output_type": "execute_result"
    }
   ],
   "source": [
    "new_xgr.score(x_scaled_test, y_test)"
   ]
  },
  {
   "cell_type": "code",
   "execution_count": 56,
   "id": "ef0f3ee1",
   "metadata": {},
   "outputs": [
    {
     "name": "stdout",
     "output_type": "stream",
     "text": [
      "Linear Regressor accuracy is 0.8337959255632099\n",
      "DecisionTree Regressor accuracy is 0.9304462965593071\n",
      "RandomForest regressor accuracy is 0.9586349571457373\n",
      "XGBoost regressor accuracy is 0.9642417265601259\n"
     ]
    },
    {
     "name": "stderr",
     "output_type": "stream",
     "text": [
      "C:\\Users\\amits\\anaconda3\\lib\\site-packages\\xgboost\\data.py:112: UserWarning: Use subset (sliced data) of np.ndarray is not recommended because it will generate extra copies and increase memory consumption\n",
      "  warnings.warn(\n"
     ]
    }
   ],
   "source": [
    "print(\"\"\"Linear Regressor accuracy is {lin}\n",
    "DecisionTree Regressor accuracy is {Dec}\n",
    "RandomForest regressor accuracy is {ran}\n",
    "XGBoost regressor accuracy is {xgb}\"\"\".format(lin=new_linear_reg.score(x_scaled_test, y_test),\n",
    "                                                       Dec=new_dtree.score(x_scaled_test, y_test),\n",
    "                                                       ran=new_random_forest.score(x_scaled_test, y_test),\n",
    "                                                       xgb=new_xgr.score(x_scaled_test, y_test)))"
   ]
  },
  {
   "cell_type": "code",
   "execution_count": null,
   "id": "e10eba88",
   "metadata": {},
   "outputs": [],
   "source": [
    "XGBOOST regressor gave highest accuracy."
   ]
  }
 ],
 "metadata": {
  "kernelspec": {
   "display_name": "Python 3 (ipykernel)",
   "language": "python",
   "name": "python3"
  },
  "language_info": {
   "codemirror_mode": {
    "name": "ipython",
    "version": 3
   },
   "file_extension": ".py",
   "mimetype": "text/x-python",
   "name": "python",
   "nbconvert_exporter": "python",
   "pygments_lexer": "ipython3",
   "version": "3.8.12"
  }
 },
 "nbformat": 4,
 "nbformat_minor": 5
}
