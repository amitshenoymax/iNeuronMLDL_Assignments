{
 "cells": [
  {
   "cell_type": "markdown",
   "id": "d9e13efa",
   "metadata": {},
   "source": [
    "In this assignment students have to find the frequency of words in a webpage. User can use urllib and BeautifulSoup to extract text from webpage."
   ]
  },
  {
   "cell_type": "code",
   "execution_count": 3,
   "id": "20b41075",
   "metadata": {},
   "outputs": [],
   "source": [
    "from bs4 import BeautifulSoup\n",
    "import urllib.request\n",
    "import nltk\n",
    "response = urllib.request.urlopen('http://php.net/')\n",
    "html = response.read()\n",
    "soup = BeautifulSoup(html,\"html5lib\").get_text()"
   ]
  },
  {
   "cell_type": "code",
   "execution_count": 4,
   "id": "92074908",
   "metadata": {},
   "outputs": [
    {
     "name": "stderr",
     "output_type": "stream",
     "text": [
      "[nltk_data] Downloading package punkt to\n",
      "[nltk_data]     C:\\Users\\amits\\AppData\\Roaming\\nltk_data...\n",
      "[nltk_data]   Package punkt is already up-to-date!\n"
     ]
    }
   ],
   "source": [
    "nltk.download('punkt')\n",
    "words = nltk.word_tokenize(soup)"
   ]
  },
  {
   "cell_type": "code",
   "execution_count": 5,
   "id": "e3676a68",
   "metadata": {},
   "outputs": [
    {
     "name": "stdout",
     "output_type": "stream",
     "text": [
      "the; 196\n",
      "php; 146\n",
      "of; 82\n",
      "for; 66\n",
      "is; 62\n",
      "release; 61\n",
      "this; 54\n",
      "in; 50\n",
      "and; 48\n",
      "to; 45\n",
      "downloads; 43\n",
      "source; 43\n",
      "please; 38\n",
      "can; 36\n",
      "be; 36\n",
      "found; 36\n",
      "version; 35\n",
      "on; 30\n",
      "page; 27\n",
      "list; 25\n",
      "changes; 25\n",
      "team; 24\n",
      "visit; 24\n",
      "rc; 23\n",
      "8.1.0; 21\n",
      "windows; 19\n",
      "development; 19\n",
      "availability; 19\n",
      "released; 18\n",
      "announces; 18\n"
     ]
    }
   ],
   "source": [
    "words = [word for word in words if len(word) > 1]\n",
    "\n",
    "# Removing any numbers present in our text\n",
    "\n",
    "words = [word for word in words if not word.isnumeric()]\n",
    "\n",
    "# Lowercase all words (default_stopwords are lowercase too)\n",
    "\n",
    "words = [word.lower() for word in words]\n",
    "\n",
    "# Calculating frequency distribution\n",
    "\n",
    "fdist = nltk.FreqDist(words)\n",
    "\n",
    "# Printing the top 30 words with their frequency\n",
    "\n",
    "for word, frequency in fdist.most_common(30):\n",
    "    print(u'{}; {}'.format(word, frequency))"
   ]
  },
  {
   "cell_type": "code",
   "execution_count": null,
   "id": "6cc4d822",
   "metadata": {},
   "outputs": [],
   "source": []
  }
 ],
 "metadata": {
  "kernelspec": {
   "display_name": "Python 3 (ipykernel)",
   "language": "python",
   "name": "python3"
  },
  "language_info": {
   "codemirror_mode": {
    "name": "ipython",
    "version": 3
   },
   "file_extension": ".py",
   "mimetype": "text/x-python",
   "name": "python",
   "nbconvert_exporter": "python",
   "pygments_lexer": "ipython3",
   "version": "3.8.12"
  }
 },
 "nbformat": 4,
 "nbformat_minor": 5
}
